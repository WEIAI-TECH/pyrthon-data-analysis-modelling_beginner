{
 "cells": [
  {
   "cell_type": "markdown",
   "metadata": {
    "slideshow": {
     "slide_type": "slide"
    }
   },
   "source": [
    "<img src=\"./images/shouke_logo.png\"\n",
    "     style=\"float: right\"\n",
    "     width=150\n",
    "     style=\"padding-bottom:100px;\"/>\n",
    "<br>\n",
    "<br>\n",
    "<br>\n",
    "\n",
    "<table style=\"float:center;\">\n",
    "    <tr>\n",
    "        <td>\n",
    "            <img src='./images/python-logo.png'width=130>\n",
    "        </td>\n",
    "        <td>\n",
    "            <img src='./images/anaconda-logo.png'width=150>\n",
    "        </td>\n",
    "    </tr>\n",
    "</table>\n",
    "\n",
    "<h1 style='text-align: center;'>Installing Anaconda Python</h1>\n",
    "<h3 style='text-align: center;'>Shouke Wei, Ph.D. Professor</h3>\n",
    "<h4 style='text-align: center;'>Email: shouke.wei@gmail.com</h4>"
   ]
  },
  {
   "cell_type": "markdown",
   "metadata": {
    "slideshow": {
     "slide_type": "slide"
    }
   },
   "source": [
    "## Objective\n",
    "- learn how to install Anaconda Python\n",
    "- setup Anaconda prompt"
   ]
  },
  {
   "cell_type": "markdown",
   "metadata": {
    "slideshow": {
     "slide_type": "slide"
    }
   },
   "source": [
    "## 1. Why install Anaconda Python\n",
    "Two types of Python:\n",
    "- Traditional Python\n",
    "- Python distribution platforms, like Anaconda, Miniconda, WinPython, Activepython, etc.\n",
    "  - Anaconda is the world's most popular Python distribution platform with over 20 million users worldwide. \n",
    "  - It is advantageous because it includes Python and [720+](https://docs.anaconda.com/anaconda/packages/pkg-docs/) most popular libraries and tools, and it is most widely used Python distribution for data science."
   ]
  },
  {
   "cell_type": "markdown",
   "metadata": {
    "slideshow": {
     "slide_type": "slide"
    }
   },
   "source": [
    "## 2. Installing Anaconda\n",
    "- Search Anaconda\n",
    "- Download the installer for your system\n",
    "- Install it"
   ]
  },
  {
   "cell_type": "markdown",
   "metadata": {
    "slideshow": {
     "slide_type": "slide"
    }
   },
   "source": [
    "## 3. Pin Anaconda Prompt to the taskbar\n",
    "- pin it on the taskbar to avoid searching it when you use it each time, or\n",
    "- drag it to desktop"
   ]
  }
 ],
 "metadata": {
  "celltoolbar": "Slideshow",
  "kernelspec": {
   "display_name": "Python 3 (ipykernel)",
   "language": "python",
   "name": "python3"
  },
  "language_info": {
   "codemirror_mode": {
    "name": "ipython",
    "version": 3
   },
   "file_extension": ".py",
   "mimetype": "text/x-python",
   "name": "python",
   "nbconvert_exporter": "python",
   "pygments_lexer": "ipython3",
   "version": "3.9.9"
  }
 },
 "nbformat": 4,
 "nbformat_minor": 4
}
