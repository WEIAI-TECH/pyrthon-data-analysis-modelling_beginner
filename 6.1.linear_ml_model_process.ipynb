{
 "cells": [
  {
   "cell_type": "markdown",
   "id": "2482f111",
   "metadata": {},
   "source": [
    "<img src=\"./images/shouke_logo.png\"\n",
    "     style=\"float: right\"\n",
    "     width=100\n",
    "     style=\"padding-bottom:100px;\"/>\n",
    "<br>\n",
    "<br>\n",
    "\n",
    "<table style=\"float:center;\">\n",
    "    <tr>\n",
    "        <td>\n",
    "            <img src='./images/python-logo.png'width=120>\n",
    "        </td>\n",
    "        <td>\n",
    "            <img src='./images/pandas-logo.png'width=150>\n",
    "        </td>\n",
    "        <td>\n",
    "            <img src='./images/scikit_learn_logo.png'width=150>\n",
    "        </td>\n",
    "    </tr>\n",
    "</table>\n",
    "\n",
    "<h1 style='text-align: center;'>Machine Learning Linear Regression Models</h1>\n",
    "<h3 style='text-align: center;'>Shouke Wei, Ph.D. Professor</h3>\n",
    "<h4 style='text-align: center;'>Email: shouke.wei@gmail.com</h4>"
   ]
  },
  {
   "cell_type": "markdown",
   "id": "9dd5cf63",
   "metadata": {},
   "source": [
    "## Objective\n",
    "- From this lecture, we will learn how to develop linear regression models using machine learning approach\n",
    "- In this lecture, we just briefly talk about the machine learning modelling process."
   ]
  },
  {
   "cell_type": "markdown",
   "id": "e4be02ff",
   "metadata": {},
   "source": [
    "## 1. Import required packages"
   ]
  },
  {
   "cell_type": "markdown",
   "id": "eef6bc98",
   "metadata": {},
   "source": [
    "## 2. Read data"
   ]
  },
  {
   "cell_type": "markdown",
   "id": "2121d679",
   "metadata": {},
   "source": [
    "## 3. Slice data into features X and target y"
   ]
  },
  {
   "cell_type": "markdown",
   "id": "65412700",
   "metadata": {},
   "source": [
    "## 4. Split dataset for model training and testing"
   ]
  },
  {
   "cell_type": "markdown",
   "id": "8e3a6bcf",
   "metadata": {},
   "source": [
    "## 5. Data Normalization"
   ]
  },
  {
   "cell_type": "markdown",
   "id": "bf325ae9",
   "metadata": {},
   "source": [
    "## 6. Train the model"
   ]
  },
  {
   "cell_type": "markdown",
   "id": "41f7d7a8",
   "metadata": {},
   "source": [
    "## 7. Evaluate the model"
   ]
  },
  {
   "cell_type": "markdown",
   "id": "de89bf27",
   "metadata": {},
   "source": [
    "## 8. Imporve the model"
   ]
  },
  {
   "cell_type": "markdown",
   "id": "fd689769",
   "metadata": {},
   "source": [
    "## 9. Visulizate the model results"
   ]
  }
 ],
 "metadata": {
  "kernelspec": {
   "display_name": "Python 3 (ipykernel)",
   "language": "python",
   "name": "python3"
  },
  "language_info": {
   "codemirror_mode": {
    "name": "ipython",
    "version": 3
   },
   "file_extension": ".py",
   "mimetype": "text/x-python",
   "name": "python",
   "nbconvert_exporter": "python",
   "pygments_lexer": "ipython3",
   "version": "3.9.9"
  }
 },
 "nbformat": 4,
 "nbformat_minor": 5
}
