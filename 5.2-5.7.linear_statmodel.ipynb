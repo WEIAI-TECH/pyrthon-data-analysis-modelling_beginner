{
 "cells": [
  {
   "cell_type": "markdown",
   "id": "0b803904",
   "metadata": {},
   "source": [
    "<img src=\"./images/shouke_logo.png\"\n",
    "     style=\"float: right\"\n",
    "     width=100\n",
    "     style=\"padding-bottom:100px;\"/>\n",
    "<br>\n",
    "<br>\n",
    "\n",
    "<table style=\"float:center;\">\n",
    "    <tr>\n",
    "        <td>\n",
    "            <img src='./images/python-logo.png'width=120>\n",
    "        </td>\n",
    "        <td>\n",
    "            <img src='./images/pandas-logo.png'width=150>\n",
    "        </td>\n",
    "        <td>\n",
    "            <img src='./images/statsmodels_logo.png'width=150>\n",
    "        </td>\n",
    "    </tr>\n",
    "</table>\n",
    "\n",
    "<h1 style='text-align: center;'>Statistical Linear Regression Models</h1>\n",
    "<h3 style='text-align: center;'>Shouke Wei, Ph.D. Professor</h3>\n",
    "<h4 style='text-align: center;'>Email: shouke.wei@gmail.com</h4>"
   ]
  },
  {
   "cell_type": "markdown",
   "id": "23ad60bb",
   "metadata": {},
   "source": [
    "## Objective\n",
    "- In this section, we will learn how to develop statistical linear regression models with Statsmodels library"
   ]
  },
  {
   "cell_type": "markdown",
   "id": "2a30025b",
   "metadata": {},
   "source": [
    "## 1. Import the required packages"
   ]
  },
  {
   "cell_type": "code",
   "execution_count": null,
   "id": "e0d366fa",
   "metadata": {},
   "outputs": [],
   "source": [
    "import pandas as pd\n",
    "from sklearn.model_selection import train_test_split\n",
    "#import matplotlib.pyplot as plt\n",
    "#import seaborn as sns\n",
    "#import statsmodels.api as sm\n",
    "#from sklearn import metrics\n",
    "#from statsmodels.stats.outliers_influence import variance_inflation_factor"
   ]
  },
  {
   "cell_type": "markdown",
   "id": "6e5dffd6",
   "metadata": {},
   "source": [
    "## 2. Read the data"
   ]
  },
  {
   "cell_type": "code",
   "execution_count": null,
   "id": "e7649ea2",
   "metadata": {},
   "outputs": [],
   "source": [
    "df = pd.read_csv('./data/gdp_china_encoded.csv',index_col=False)\n",
    "df.head()"
   ]
  },
  {
   "cell_type": "markdown",
   "id": "872c88bb",
   "metadata": {},
   "source": [
    "## 3. Define independent variables (X) and dependent variable (y)"
   ]
  },
  {
   "cell_type": "code",
   "execution_count": null,
   "id": "1025611e",
   "metadata": {},
   "outputs": [],
   "source": [
    "X = df.drop(['gdp'],axis=1)\n",
    "y = df['gdp']"
   ]
  },
  {
   "cell_type": "markdown",
   "id": "457b2df3",
   "metadata": {},
   "source": [
    "## 4. Divide the dataset \n",
    "- Two parts: for model estimation/fitting and model validation"
   ]
  },
  {
   "cell_type": "code",
   "execution_count": null,
   "id": "6a846478",
   "metadata": {},
   "outputs": [],
   "source": [
    "X_train, X_test, y_train, y_test = train_test_split(X, y,test_size=0.30, random_state=1)"
   ]
  },
  {
   "cell_type": "markdown",
   "id": "01c9a1e3",
   "metadata": {},
   "source": [
    "## 5. Data normalization in statistical regression (optional)\n",
    "\n",
    "- For regression model, it widely accepts that it is not necessary to normalize the data.\n",
    "- Statistical linear regression stress 'explanatory model', the estimated coefficients descibe the relation between indepent variable and dependent variable\n",
    "\n",
    "$$\\hat y\\ = \\beta_0\\ + \\beta_1x_1\\ + \\beta_2x_2\\ + ... + \\beta_px_p\\$$\n",
    "\n",
    "The regression coefficient $\\beta_1$ is interpreted as the expected\n",
    "change in $y$ associated with a 1-unit increase in $x_1$ while\n",
    "$x_2$,..., $x_p$ are held fixed.\n",
    "\n",
    "- I suggest using `decimal scaling` normalization method, and it will be helpful.\n",
    "- We will not normalize data here"
   ]
  },
  {
   "cell_type": "markdown",
   "id": "496f7578",
   "metadata": {},
   "source": [
    "## 6. Fit the model"
   ]
  },
  {
   "cell_type": "code",
   "execution_count": null,
   "id": "7f506508",
   "metadata": {},
   "outputs": [],
   "source": [
    "import statsmodels.api as sm\n",
    "\n",
    "# add a constant \n",
    "X_train = sm.add_constant(X_train) \n",
    "\n",
    "# define the model and fit it\n",
    "model = sm.OLS(y_train, X_train)\n",
    "\n",
    "results = model.fit()"
   ]
  },
  {
   "cell_type": "markdown",
   "id": "12e61155",
   "metadata": {},
   "source": [
    "## 7. Interprete model results"
   ]
  },
  {
   "cell_type": "code",
   "execution_count": null,
   "id": "6954e193",
   "metadata": {
    "scrolled": true
   },
   "outputs": [],
   "source": [
    "results.summary()"
   ]
  },
  {
   "cell_type": "markdown",
   "id": "96cfd7ea",
   "metadata": {},
   "source": [
    "- **Df Residuals**: Degrees of Freedom in the mode. It is calculated in the form of ‘n-k-1’, i.e. ‘numbers of observations - numbers of predicting variables - 1’\n",
    "- **Df Model**: the numbers of predicting variables\n",
    "- **Covariance Type**: nonrobust. Covariance measures how two variables are linked in a positive or negative manner, and a robust covariance is one calculated in a way to minimize or eliminate variables, here it is not the case.\n",
    "- **R-squared**: goodness of fit, or determination coefficient. It is interpreted as the proportion of the variance in the dependent variable that is predictable from the independent variable.\n",
    "- **Adj. R-squared**: the percentage of variation explained by only the independent variables that actually affect the dependent variable. It will penalise us to add more independent variables which cannot affect the dependent variable. \n",
    "- **F-statistic**: assess the significance of the overall model.\n",
    "- **Prob (F-statistic)**: If *P*-value for the F-Stat is less than a significance level, it can reject the null hypothesis and that an intercept-only model is better.\n",
    "- **AIC**: The Akaike Information Criterion (AIC), which lets us test how well our model fits the data set without overfitting it.\n",
    "- **Prob(Omnibus)**: performs a statistical test indicating the probability that the residuals are normally distributed.\n",
    "- **P>|t|**: one of the most important statistics in the summary. It is a measurement of how likely the model coefficient is measured through our model by chance. The *p* value of 0.004 for year means that there is a 0.4% chance the year variable has no affect on the dependent variable, GDP. Proper model analysis will compare the *p* value to a previously established alpha value, or a threshold. A common alpha is 0.05. The *p* value is less than 0.05 is statistically significant. \n",
    "- **[0.025 0.975]**: the ends of a 95% confidence interval for the parameter "
   ]
  },
  {
   "cell_type": "markdown",
   "id": "b0f7b260",
   "metadata": {},
   "source": [
    "### Problem analysis"
   ]
  },
  {
   "cell_type": "markdown",
   "id": "b1e2b9d2",
   "metadata": {},
   "source": [
    "#### (1) Multicollinearity\n",
    "\n",
    "Multicollinearity happens when two or more independent variables are highly correlated with one another in a regression model.\n",
    "\n",
    "It means that we can predict an independent variable by another independent variable in a regression model."
   ]
  },
  {
   "cell_type": "markdown",
   "id": "0f93ebf0",
   "metadata": {},
   "source": [
    "Multicollinearity causes the following basic types of problems:\n",
    "\n",
    "-  It can increase the variance of the coefficient estimates and make the estimates very sensitive to minor changes in the model. \n",
    "-It reduces the precision of the estimated coefficients, which weakens the statistical power of the regression model. We might not be able to trust the *p*-values to identify independent variables that are statistically significant.\n",
    "- It also creates an overfitting problem\n"
   ]
  },
  {
   "cell_type": "markdown",
   "id": "24676437",
   "metadata": {},
   "source": [
    "#### (2) Methods to assess multicollinearity\n",
    "#### Condition number\n",
    "One way to assess multicollinearity is to compute the condition number. Values over 20 are worrisome.\n",
    "\n",
    "Reference to: https://www.statsmodels.org/dev/examples/notebooks/generated/ols.html"
   ]
  },
  {
   "cell_type": "markdown",
   "id": "4ba36d7b",
   "metadata": {},
   "source": [
    "#### Correlation Heatmap"
   ]
  },
  {
   "cell_type": "code",
   "execution_count": null,
   "id": "5bb571a5",
   "metadata": {
    "scrolled": false
   },
   "outputs": [],
   "source": [
    "import matplotlib.pyplot as plt\n",
    "import seaborn as sns\n",
    "\n",
    "corr = df.loc[:,'year':'uinc'].corr()\n",
    "\n",
    "plt.figure(figsize=(17,8)) \n",
    "heat_map = sns.heatmap(corr, vmin=-1,vmax=1,annot=True)\n",
    "\n",
    "heat_map.set_title('Correlation Heatmap',fontdict={'fontsize':12},pad=12)"
   ]
  },
  {
   "cell_type": "markdown",
   "id": "4a160b15",
   "metadata": {},
   "source": [
    "#### VIF (Variance Inflation Factor)\n",
    "It widely accepts that a VIF (Variance Inflation Factor) > 10 as an indicator of multicollinearity, but some scholars choose a more conservative threshold of 5 or even 2.5."
   ]
  },
  {
   "cell_type": "code",
   "execution_count": null,
   "id": "d94ea08c",
   "metadata": {
    "scrolled": true
   },
   "outputs": [],
   "source": [
    "from statsmodels.stats.outliers_influence import variance_inflation_factor\n",
    "\n",
    "# For each X, calculate VIF and save in dataframe\n",
    "X_train = sm.add_constant(X_train)\n",
    "vif = pd.DataFrame()\n",
    "vif[\"VIF Factor\"] = [variance_inflation_factor(X_train.values, i) for i in range(X_train.shape[1])]\n",
    "vif[\"features\"] = X_train.columns\n",
    "\n",
    "vif.round(1)"
   ]
  },
  {
   "cell_type": "markdown",
   "id": "fdc9a10a",
   "metadata": {},
   "source": [
    "## 8. Model improvement"
   ]
  },
  {
   "cell_type": "markdown",
   "id": "761b9aeb",
   "metadata": {},
   "source": [
    "### (1) Drop the insignificant variables "
   ]
  },
  {
   "cell_type": "code",
   "execution_count": 58,
   "id": "f97c1f1a",
   "metadata": {
    "scrolled": true
   },
   "outputs": [
    {
     "data": {
      "text/html": [
       "<div>\n",
       "<style scoped>\n",
       "    .dataframe tbody tr th:only-of-type {\n",
       "        vertical-align: middle;\n",
       "    }\n",
       "\n",
       "    .dataframe tbody tr th {\n",
       "        vertical-align: top;\n",
       "    }\n",
       "\n",
       "    .dataframe thead th {\n",
       "        text-align: right;\n",
       "    }\n",
       "</style>\n",
       "<table border=\"1\" class=\"dataframe\">\n",
       "  <thead>\n",
       "    <tr style=\"text-align: right;\">\n",
       "      <th></th>\n",
       "      <th>const</th>\n",
       "      <th>fexpen</th>\n",
       "      <th>prov_hn</th>\n",
       "      <th>prov_js</th>\n",
       "      <th>prov_sd</th>\n",
       "    </tr>\n",
       "  </thead>\n",
       "  <tbody>\n",
       "    <tr>\n",
       "      <th>66</th>\n",
       "      <td>1.0</td>\n",
       "      <td>0.265335</td>\n",
       "      <td>0.0</td>\n",
       "      <td>0.0</td>\n",
       "      <td>0.0</td>\n",
       "    </tr>\n",
       "    <tr>\n",
       "      <th>54</th>\n",
       "      <td>1.0</td>\n",
       "      <td>0.875521</td>\n",
       "      <td>0.0</td>\n",
       "      <td>0.0</td>\n",
       "      <td>1.0</td>\n",
       "    </tr>\n",
       "    <tr>\n",
       "      <th>36</th>\n",
       "      <td>1.0</td>\n",
       "      <td>1.062103</td>\n",
       "      <td>0.0</td>\n",
       "      <td>1.0</td>\n",
       "      <td>0.0</td>\n",
       "    </tr>\n",
       "    <tr>\n",
       "      <th>45</th>\n",
       "      <td>1.0</td>\n",
       "      <td>0.226185</td>\n",
       "      <td>0.0</td>\n",
       "      <td>0.0</td>\n",
       "      <td>1.0</td>\n",
       "    </tr>\n",
       "    <tr>\n",
       "      <th>52</th>\n",
       "      <td>1.0</td>\n",
       "      <td>0.717731</td>\n",
       "      <td>0.0</td>\n",
       "      <td>0.0</td>\n",
       "      <td>1.0</td>\n",
       "    </tr>\n",
       "    <tr>\n",
       "      <th>...</th>\n",
       "      <td>...</td>\n",
       "      <td>...</td>\n",
       "      <td>...</td>\n",
       "      <td>...</td>\n",
       "      <td>...</td>\n",
       "    </tr>\n",
       "    <tr>\n",
       "      <th>75</th>\n",
       "      <td>1.0</td>\n",
       "      <td>0.862953</td>\n",
       "      <td>0.0</td>\n",
       "      <td>0.0</td>\n",
       "      <td>0.0</td>\n",
       "    </tr>\n",
       "    <tr>\n",
       "      <th>9</th>\n",
       "      <td>1.0</td>\n",
       "      <td>0.433437</td>\n",
       "      <td>0.0</td>\n",
       "      <td>0.0</td>\n",
       "      <td>0.0</td>\n",
       "    </tr>\n",
       "    <tr>\n",
       "      <th>72</th>\n",
       "      <td>1.0</td>\n",
       "      <td>0.664598</td>\n",
       "      <td>0.0</td>\n",
       "      <td>0.0</td>\n",
       "      <td>0.0</td>\n",
       "    </tr>\n",
       "    <tr>\n",
       "      <th>12</th>\n",
       "      <td>1.0</td>\n",
       "      <td>0.738786</td>\n",
       "      <td>0.0</td>\n",
       "      <td>0.0</td>\n",
       "      <td>0.0</td>\n",
       "    </tr>\n",
       "    <tr>\n",
       "      <th>37</th>\n",
       "      <td>1.0</td>\n",
       "      <td>1.165735</td>\n",
       "      <td>0.0</td>\n",
       "      <td>1.0</td>\n",
       "      <td>0.0</td>\n",
       "    </tr>\n",
       "  </tbody>\n",
       "</table>\n",
       "<p>66 rows × 5 columns</p>\n",
       "</div>"
      ],
      "text/plain": [
       "    const    fexpen  prov_hn  prov_js  prov_sd\n",
       "66    1.0  0.265335      0.0      0.0      0.0\n",
       "54    1.0  0.875521      0.0      0.0      1.0\n",
       "36    1.0  1.062103      0.0      1.0      0.0\n",
       "45    1.0  0.226185      0.0      0.0      1.0\n",
       "52    1.0  0.717731      0.0      0.0      1.0\n",
       "..    ...       ...      ...      ...      ...\n",
       "75    1.0  0.862953      0.0      0.0      0.0\n",
       "9     1.0  0.433437      0.0      0.0      0.0\n",
       "72    1.0  0.664598      0.0      0.0      0.0\n",
       "12    1.0  0.738786      0.0      0.0      0.0\n",
       "37    1.0  1.165735      0.0      1.0      0.0\n",
       "\n",
       "[66 rows x 5 columns]"
      ]
     },
     "execution_count": 58,
     "metadata": {},
     "output_type": "execute_result"
    }
   ],
   "source": [
    "X_train_droped = X_train.drop(['pop','year','uinc','finv','trade','prov_zj'],axis=1)\n",
    "X_train_droped"
   ]
  },
  {
   "cell_type": "code",
   "execution_count": 59,
   "id": "bb17a86a",
   "metadata": {
    "scrolled": false
   },
   "outputs": [
    {
     "data": {
      "text/html": [
       "<table class=\"simpletable\">\n",
       "<caption>OLS Regression Results</caption>\n",
       "<tr>\n",
       "  <th>Dep. Variable:</th>           <td>gdp</td>       <th>  R-squared:         </th> <td>   0.970</td>\n",
       "</tr>\n",
       "<tr>\n",
       "  <th>Model:</th>                   <td>OLS</td>       <th>  Adj. R-squared:    </th> <td>   0.968</td>\n",
       "</tr>\n",
       "<tr>\n",
       "  <th>Method:</th>             <td>Least Squares</td>  <th>  F-statistic:       </th> <td>   484.8</td>\n",
       "</tr>\n",
       "<tr>\n",
       "  <th>Date:</th>             <td>Sat, 22 Jan 2022</td> <th>  Prob (F-statistic):</th> <td>1.80e-45</td>\n",
       "</tr>\n",
       "<tr>\n",
       "  <th>Time:</th>                 <td>13:51:48</td>     <th>  Log-Likelihood:    </th> <td> -38.240</td>\n",
       "</tr>\n",
       "<tr>\n",
       "  <th>No. Observations:</th>      <td>    66</td>      <th>  AIC:               </th> <td>   86.48</td>\n",
       "</tr>\n",
       "<tr>\n",
       "  <th>Df Residuals:</th>          <td>    61</td>      <th>  BIC:               </th> <td>   97.43</td>\n",
       "</tr>\n",
       "<tr>\n",
       "  <th>Df Model:</th>              <td>     4</td>      <th>                     </th>     <td> </td>   \n",
       "</tr>\n",
       "<tr>\n",
       "  <th>Covariance Type:</th>      <td>nonrobust</td>    <th>                     </th>     <td> </td>   \n",
       "</tr>\n",
       "</table>\n",
       "<table class=\"simpletable\">\n",
       "<tr>\n",
       "     <td></td>        <th>coef</th>     <th>std err</th>      <th>t</th>      <th>P>|t|</th>  <th>[0.025</th>    <th>0.975]</th>  \n",
       "</tr>\n",
       "<tr>\n",
       "  <th>const</th>   <td>    0.6829</td> <td>    0.107</td> <td>    6.372</td> <td> 0.000</td> <td>    0.469</td> <td>    0.897</td>\n",
       "</tr>\n",
       "<tr>\n",
       "  <th>fexpen</th>  <td>    6.0510</td> <td>    0.144</td> <td>   41.986</td> <td> 0.000</td> <td>    5.763</td> <td>    6.339</td>\n",
       "</tr>\n",
       "<tr>\n",
       "  <th>prov_hn</th> <td>   -0.5837</td> <td>    0.155</td> <td>   -3.761</td> <td> 0.000</td> <td>   -0.894</td> <td>   -0.273</td>\n",
       "</tr>\n",
       "<tr>\n",
       "  <th>prov_js</th> <td>    0.3991</td> <td>    0.149</td> <td>    2.686</td> <td> 0.009</td> <td>    0.102</td> <td>    0.696</td>\n",
       "</tr>\n",
       "<tr>\n",
       "  <th>prov_sd</th> <td>    0.5664</td> <td>    0.163</td> <td>    3.466</td> <td> 0.001</td> <td>    0.240</td> <td>    0.893</td>\n",
       "</tr>\n",
       "</table>\n",
       "<table class=\"simpletable\">\n",
       "<tr>\n",
       "  <th>Omnibus:</th>       <td> 0.625</td> <th>  Durbin-Watson:     </th> <td>   1.934</td>\n",
       "</tr>\n",
       "<tr>\n",
       "  <th>Prob(Omnibus):</th> <td> 0.732</td> <th>  Jarque-Bera (JB):  </th> <td>   0.166</td>\n",
       "</tr>\n",
       "<tr>\n",
       "  <th>Skew:</th>          <td> 0.025</td> <th>  Prob(JB):          </th> <td>   0.921</td>\n",
       "</tr>\n",
       "<tr>\n",
       "  <th>Kurtosis:</th>      <td> 3.240</td> <th>  Cond. No.          </th> <td>    4.40</td>\n",
       "</tr>\n",
       "</table><br/><br/>Notes:<br/>[1] Standard Errors assume that the covariance matrix of the errors is correctly specified."
      ],
      "text/plain": [
       "<class 'statsmodels.iolib.summary.Summary'>\n",
       "\"\"\"\n",
       "                            OLS Regression Results                            \n",
       "==============================================================================\n",
       "Dep. Variable:                    gdp   R-squared:                       0.970\n",
       "Model:                            OLS   Adj. R-squared:                  0.968\n",
       "Method:                 Least Squares   F-statistic:                     484.8\n",
       "Date:                Sat, 22 Jan 2022   Prob (F-statistic):           1.80e-45\n",
       "Time:                        13:51:48   Log-Likelihood:                -38.240\n",
       "No. Observations:                  66   AIC:                             86.48\n",
       "Df Residuals:                      61   BIC:                             97.43\n",
       "Df Model:                           4                                         \n",
       "Covariance Type:            nonrobust                                         \n",
       "==============================================================================\n",
       "                 coef    std err          t      P>|t|      [0.025      0.975]\n",
       "------------------------------------------------------------------------------\n",
       "const          0.6829      0.107      6.372      0.000       0.469       0.897\n",
       "fexpen         6.0510      0.144     41.986      0.000       5.763       6.339\n",
       "prov_hn       -0.5837      0.155     -3.761      0.000      -0.894      -0.273\n",
       "prov_js        0.3991      0.149      2.686      0.009       0.102       0.696\n",
       "prov_sd        0.5664      0.163      3.466      0.001       0.240       0.893\n",
       "==============================================================================\n",
       "Omnibus:                        0.625   Durbin-Watson:                   1.934\n",
       "Prob(Omnibus):                  0.732   Jarque-Bera (JB):                0.166\n",
       "Skew:                           0.025   Prob(JB):                        0.921\n",
       "Kurtosis:                       3.240   Cond. No.                         4.40\n",
       "==============================================================================\n",
       "\n",
       "Notes:\n",
       "[1] Standard Errors assume that the covariance matrix of the errors is correctly specified.\n",
       "\"\"\""
      ]
     },
     "execution_count": 59,
     "metadata": {},
     "output_type": "execute_result"
    }
   ],
   "source": [
    "X_train_droped = sm.add_constant(X_train_droped)\n",
    "\n",
    "model2 = sm.OLS(y_train, X_train_droped)\n",
    "res = model2.fit()\n",
    "res.summary()"
   ]
  },
  {
   "cell_type": "markdown",
   "id": "80afd4e2",
   "metadata": {},
   "source": [
    "### (2) check the multicollinearity"
   ]
  },
  {
   "cell_type": "code",
   "execution_count": 60,
   "id": "1c7081f6",
   "metadata": {
    "scrolled": false
   },
   "outputs": [
    {
     "data": {
      "text/html": [
       "<div>\n",
       "<style scoped>\n",
       "    .dataframe tbody tr th:only-of-type {\n",
       "        vertical-align: middle;\n",
       "    }\n",
       "\n",
       "    .dataframe tbody tr th {\n",
       "        vertical-align: top;\n",
       "    }\n",
       "\n",
       "    .dataframe thead th {\n",
       "        text-align: right;\n",
       "    }\n",
       "</style>\n",
       "<table border=\"1\" class=\"dataframe\">\n",
       "  <thead>\n",
       "    <tr style=\"text-align: right;\">\n",
       "      <th></th>\n",
       "      <th>VIF Factor</th>\n",
       "      <th>features</th>\n",
       "    </tr>\n",
       "  </thead>\n",
       "  <tbody>\n",
       "    <tr>\n",
       "      <th>0</th>\n",
       "      <td>3.8</td>\n",
       "      <td>const</td>\n",
       "    </tr>\n",
       "    <tr>\n",
       "      <th>1</th>\n",
       "      <td>1.0</td>\n",
       "      <td>fexpen</td>\n",
       "    </tr>\n",
       "    <tr>\n",
       "      <th>2</th>\n",
       "      <td>1.2</td>\n",
       "      <td>prov_hn</td>\n",
       "    </tr>\n",
       "    <tr>\n",
       "      <th>3</th>\n",
       "      <td>1.1</td>\n",
       "      <td>prov_js</td>\n",
       "    </tr>\n",
       "    <tr>\n",
       "      <th>4</th>\n",
       "      <td>1.1</td>\n",
       "      <td>prov_sd</td>\n",
       "    </tr>\n",
       "  </tbody>\n",
       "</table>\n",
       "</div>"
      ],
      "text/plain": [
       "   VIF Factor features\n",
       "0         3.8    const\n",
       "1         1.0   fexpen\n",
       "2         1.2  prov_hn\n",
       "3         1.1  prov_js\n",
       "4         1.1  prov_sd"
      ]
     },
     "execution_count": 60,
     "metadata": {},
     "output_type": "execute_result"
    }
   ],
   "source": [
    "# For each X, calculate VIF and save in dataframe\n",
    "\n",
    "X_train_droped = sm.add_constant(X_train_droped)\n",
    "vif = pd.DataFrame()\n",
    "vif[\"VIF Factor\"] = [variance_inflation_factor(X_train_droped.values, i) for i in range(X_train_droped.shape[1])]\n",
    "vif[\"features\"] = X_train_droped.columns\n",
    "\n",
    "vif.round(1)"
   ]
  },
  {
   "cell_type": "markdown",
   "id": "e5eedf12",
   "metadata": {},
   "source": [
    "### (3) Assess the model"
   ]
  },
  {
   "cell_type": "code",
   "execution_count": 61,
   "id": "497d1b81",
   "metadata": {},
   "outputs": [
    {
     "name": "stdout",
     "output_type": "stream",
     "text": [
      "mean_absolute_error(MAE):  0.343\n",
      "mean_squared_error(MSE):  0.1865459902947022\n",
      "root_mean_squared_error(RMSE):  0.4319097015519589\n",
      "mean_absolute_percentage_error(MAPE):  0.1474308979134555\n"
     ]
    }
   ],
   "source": [
    "from sklearn import metrics\n",
    "\n",
    "y_fit = res.predict(X_train_droped)\n",
    "\n",
    "# calculate MAE, MSE, RMSE and MAPE\n",
    "print (\"mean_absolute_error(MAE): \", metrics.mean_absolute_error(y_train, y_fit).round(3))\n",
    "print (\"mean_squared_error(MSE): \", metrics.mean_squared_error(y_train, y_fit))\n",
    "print (\"root_mean_squared_error(RMSE): \", metrics.mean_squared_error(y_train, y_fit,squared=False))\n",
    "print (\"mean_absolute_percentage_error(MAPE): \",metrics.mean_absolute_percentage_error(y_train, y_fit))"
   ]
  },
  {
   "cell_type": "markdown",
   "id": "5626518f",
   "metadata": {},
   "source": [
    "## 9. Model prediction testing"
   ]
  },
  {
   "cell_type": "code",
   "execution_count": 63,
   "id": "dcd9a344",
   "metadata": {},
   "outputs": [],
   "source": [
    "X_test_droped = X_test.drop(['pop','year','uinc','finv','trade','prov_zj'],axis=1)"
   ]
  },
  {
   "cell_type": "code",
   "execution_count": 64,
   "id": "69bbfd40",
   "metadata": {},
   "outputs": [],
   "source": [
    "X_test_droped = sm.add_constant(X_test_droped)\n",
    "\n",
    "y_pred = res.predict(X_test_droped)"
   ]
  },
  {
   "cell_type": "code",
   "execution_count": 65,
   "id": "890cf4e9",
   "metadata": {
    "scrolled": true
   },
   "outputs": [
    {
     "name": "stdout",
     "output_type": "stream",
     "text": [
      "R-squared:  0.9612162003596298\n",
      "mean_absolute_error(MAE):  0.3202338958341034\n",
      "mean_squared_error(MSE):  0.16298798064508582\n",
      "root_mean_squared_error(RMSE):  0.4037176991972061\n",
      "mean_absolute_percentage_error(MAPE):  0.19116315864614838\n"
     ]
    }
   ],
   "source": [
    "# calculate R-squared, MAE, MSE, RMSE and MAPE of testing\n",
    "print(\"R-squared: \",metrics.r2_score(y_test, y_pred))\n",
    "print (\"mean_absolute_error(MAE): \", metrics.mean_absolute_error(y_test,y_pred))\n",
    "print (\"mean_squared_error(MSE): \", metrics.mean_squared_error(y_test,y_pred))\n",
    "print (\"root_mean_squared_error(RMSE): \", metrics.mean_squared_error(y_test,y_pred,squared=False))\n",
    "print (\"mean_absolute_percentage_error(MAPE): \",metrics.mean_absolute_percentage_error(y_test,y_pred))"
   ]
  },
  {
   "cell_type": "code",
   "execution_count": 66,
   "id": "b33610e6",
   "metadata": {
    "scrolled": true
   },
   "outputs": [
    {
     "name": "stdout",
     "output_type": "stream",
     "text": [
      "const      0.682945\n",
      "fexpen     6.050978\n",
      "prov_hn   -0.583682\n",
      "prov_js    0.399117\n",
      "prov_sd    0.566370\n",
      "dtype: float64\n"
     ]
    }
   ],
   "source": [
    "print(res.params)"
   ]
  },
  {
   "cell_type": "markdown",
   "id": "b6db244b",
   "metadata": {},
   "source": [
    "The regression equation: \n",
    "\n",
    "$$gdp = 0.683 + 6.051fexpen - 0.584prov\\_hn + 0.399prov\\_js + 0.566prov\\_sd$$"
   ]
  },
  {
   "cell_type": "markdown",
   "id": "7a3b4fa5",
   "metadata": {},
   "source": [
    "## 10. Comparing prediction results"
   ]
  },
  {
   "cell_type": "code",
   "execution_count": 67,
   "id": "e7581c35",
   "metadata": {},
   "outputs": [
    {
     "data": {
      "text/html": [
       "<div>\n",
       "<style scoped>\n",
       "    .dataframe tbody tr th:only-of-type {\n",
       "        vertical-align: middle;\n",
       "    }\n",
       "\n",
       "    .dataframe tbody tr th {\n",
       "        vertical-align: top;\n",
       "    }\n",
       "\n",
       "    .dataframe thead th {\n",
       "        text-align: right;\n",
       "    }\n",
       "</style>\n",
       "<table border=\"1\" class=\"dataframe\">\n",
       "  <thead>\n",
       "    <tr style=\"text-align: right;\">\n",
       "      <th></th>\n",
       "      <th>Acutal values</th>\n",
       "      <th>Predicted values</th>\n",
       "      <th>Errors</th>\n",
       "    </tr>\n",
       "  </thead>\n",
       "  <tbody>\n",
       "    <tr>\n",
       "      <th>40</th>\n",
       "      <td>1.027550</td>\n",
       "      <td>1.770092</td>\n",
       "      <td>-0.742542</td>\n",
       "    </tr>\n",
       "    <tr>\n",
       "      <th>31</th>\n",
       "      <td>5.405822</td>\n",
       "      <td>5.334489</td>\n",
       "      <td>0.071333</td>\n",
       "    </tr>\n",
       "    <tr>\n",
       "      <th>46</th>\n",
       "      <td>3.093328</td>\n",
       "      <td>2.885899</td>\n",
       "      <td>0.207429</td>\n",
       "    </tr>\n",
       "    <tr>\n",
       "      <th>58</th>\n",
       "      <td>0.689834</td>\n",
       "      <td>1.044370</td>\n",
       "      <td>-0.354536</td>\n",
       "    </tr>\n",
       "    <tr>\n",
       "      <th>77</th>\n",
       "      <td>0.553301</td>\n",
       "      <td>0.407004</td>\n",
       "      <td>0.146297</td>\n",
       "    </tr>\n",
       "    <tr>\n",
       "      <th>49</th>\n",
       "      <td>4.536185</td>\n",
       "      <td>4.276056</td>\n",
       "      <td>0.260129</td>\n",
       "    </tr>\n",
       "    <tr>\n",
       "      <th>87</th>\n",
       "      <td>2.693103</td>\n",
       "      <td>2.670215</td>\n",
       "      <td>0.022888</td>\n",
       "    </tr>\n",
       "    <tr>\n",
       "      <th>44</th>\n",
       "      <td>2.190019</td>\n",
       "      <td>2.358725</td>\n",
       "      <td>-0.168706</td>\n",
       "    </tr>\n",
       "    <tr>\n",
       "      <th>88</th>\n",
       "      <td>2.959931</td>\n",
       "      <td>3.128625</td>\n",
       "      <td>-0.168694</td>\n",
       "    </tr>\n",
       "    <tr>\n",
       "      <th>90</th>\n",
       "      <td>3.493824</td>\n",
       "      <td>3.747210</td>\n",
       "      <td>-0.253386</td>\n",
       "    </tr>\n",
       "    <tr>\n",
       "      <th>67</th>\n",
       "      <td>2.772231</td>\n",
       "      <td>2.624026</td>\n",
       "      <td>0.148205</td>\n",
       "    </tr>\n",
       "    <tr>\n",
       "      <th>27</th>\n",
       "      <td>3.098198</td>\n",
       "      <td>3.047110</td>\n",
       "      <td>0.051088</td>\n",
       "    </tr>\n",
       "    <tr>\n",
       "      <th>74</th>\n",
       "      <td>5.176826</td>\n",
       "      <td>5.239525</td>\n",
       "      <td>-0.062699</td>\n",
       "    </tr>\n",
       "    <tr>\n",
       "      <th>84</th>\n",
       "      <td>1.801853</td>\n",
       "      <td>1.479860</td>\n",
       "      <td>0.321993</td>\n",
       "    </tr>\n",
       "    <tr>\n",
       "      <th>32</th>\n",
       "      <td>5.975337</td>\n",
       "      <td>5.800899</td>\n",
       "      <td>0.174438</td>\n",
       "    </tr>\n",
       "    <tr>\n",
       "      <th>55</th>\n",
       "      <td>7.263415</td>\n",
       "      <td>6.851552</td>\n",
       "      <td>0.411863</td>\n",
       "    </tr>\n",
       "    <tr>\n",
       "      <th>39</th>\n",
       "      <td>0.919504</td>\n",
       "      <td>1.705425</td>\n",
       "      <td>-0.785921</td>\n",
       "    </tr>\n",
       "    <tr>\n",
       "      <th>10</th>\n",
       "      <td>4.601306</td>\n",
       "      <td>3.963507</td>\n",
       "      <td>0.637799</td>\n",
       "    </tr>\n",
       "    <tr>\n",
       "      <th>2</th>\n",
       "      <td>1.350242</td>\n",
       "      <td>1.603347</td>\n",
       "      <td>-0.253105</td>\n",
       "    </tr>\n",
       "    <tr>\n",
       "      <th>38</th>\n",
       "      <td>0.833747</td>\n",
       "      <td>1.620288</td>\n",
       "      <td>-0.786541</td>\n",
       "    </tr>\n",
       "    <tr>\n",
       "      <th>53</th>\n",
       "      <td>6.300233</td>\n",
       "      <td>6.241378</td>\n",
       "      <td>0.058855</td>\n",
       "    </tr>\n",
       "    <tr>\n",
       "      <th>73</th>\n",
       "      <td>4.725136</td>\n",
       "      <td>4.903054</td>\n",
       "      <td>-0.177918</td>\n",
       "    </tr>\n",
       "    <tr>\n",
       "      <th>19</th>\n",
       "      <td>0.855369</td>\n",
       "      <td>1.439844</td>\n",
       "      <td>-0.584475</td>\n",
       "    </tr>\n",
       "    <tr>\n",
       "      <th>89</th>\n",
       "      <td>3.219130</td>\n",
       "      <td>3.477107</td>\n",
       "      <td>-0.257977</td>\n",
       "    </tr>\n",
       "    <tr>\n",
       "      <th>94</th>\n",
       "      <td>4.805586</td>\n",
       "      <td>5.676891</td>\n",
       "      <td>-0.871305</td>\n",
       "    </tr>\n",
       "    <tr>\n",
       "      <th>35</th>\n",
       "      <td>7.738828</td>\n",
       "      <td>7.122124</td>\n",
       "      <td>0.616704</td>\n",
       "    </tr>\n",
       "    <tr>\n",
       "      <th>33</th>\n",
       "      <td>6.508832</td>\n",
       "      <td>6.208722</td>\n",
       "      <td>0.300110</td>\n",
       "    </tr>\n",
       "    <tr>\n",
       "      <th>48</th>\n",
       "      <td>3.916992</td>\n",
       "      <td>3.757463</td>\n",
       "      <td>0.159529</td>\n",
       "    </tr>\n",
       "    <tr>\n",
       "      <th>70</th>\n",
       "      <td>3.775659</td>\n",
       "      <td>3.545342</td>\n",
       "      <td>0.230317</td>\n",
       "    </tr>\n",
       "  </tbody>\n",
       "</table>\n",
       "</div>"
      ],
      "text/plain": [
       "    Acutal values  Predicted values    Errors\n",
       "40       1.027550          1.770092 -0.742542\n",
       "31       5.405822          5.334489  0.071333\n",
       "46       3.093328          2.885899  0.207429\n",
       "58       0.689834          1.044370 -0.354536\n",
       "77       0.553301          0.407004  0.146297\n",
       "49       4.536185          4.276056  0.260129\n",
       "87       2.693103          2.670215  0.022888\n",
       "44       2.190019          2.358725 -0.168706\n",
       "88       2.959931          3.128625 -0.168694\n",
       "90       3.493824          3.747210 -0.253386\n",
       "67       2.772231          2.624026  0.148205\n",
       "27       3.098198          3.047110  0.051088\n",
       "74       5.176826          5.239525 -0.062699\n",
       "84       1.801853          1.479860  0.321993\n",
       "32       5.975337          5.800899  0.174438\n",
       "55       7.263415          6.851552  0.411863\n",
       "39       0.919504          1.705425 -0.785921\n",
       "10       4.601306          3.963507  0.637799\n",
       "2        1.350242          1.603347 -0.253105\n",
       "38       0.833747          1.620288 -0.786541\n",
       "53       6.300233          6.241378  0.058855\n",
       "73       4.725136          4.903054 -0.177918\n",
       "19       0.855369          1.439844 -0.584475\n",
       "89       3.219130          3.477107 -0.257977\n",
       "94       4.805586          5.676891 -0.871305\n",
       "35       7.738828          7.122124  0.616704\n",
       "33       6.508832          6.208722  0.300110\n",
       "48       3.916992          3.757463  0.159529\n",
       "70       3.775659          3.545342  0.230317"
      ]
     },
     "execution_count": 67,
     "metadata": {},
     "output_type": "execute_result"
    }
   ],
   "source": [
    "actual_pred_compare = pd.DataFrame({'Acutal values':y_test,\n",
    "                                   'Predicted values':y_pred,\n",
    "                                   'Errors':y_test-y_pred})\n",
    "actual_pred_compare"
   ]
  },
  {
   "cell_type": "markdown",
   "id": "4ac8bea8",
   "metadata": {},
   "source": [
    "## 11. Model Results Visualization"
   ]
  },
  {
   "cell_type": "code",
   "execution_count": 75,
   "id": "78f62a53",
   "metadata": {},
   "outputs": [
    {
     "data": {
      "image/png": "[encoded data removed]",
      "text/plain": [
       "<Figure size 1080x504 with 2 Axes>"
      ]
     },
     "metadata": {
      "needs_background": "light"
     },
     "output_type": "display_data"
    }
   ],
   "source": [
    "import seaborn as sns\n",
    "\n",
    "fig, axes = plt.subplots(1,2,figsize=(15,7))\n",
    "\n",
    "axes[0].plot(X_train_droped.fexpen, y_train, \"o\", label=\"Train Observations\")\n",
    "axes[0].plot(X_train_droped.fexpen, y_fit, \"o\", label=\"OLS Fitting Values\")\n",
    "axes[0].legend(loc=\"best\")\n",
    "\n",
    "axes[1].plot(X_test_droped.fexpen, y_test,\"go\", label=\"Test Data\")\n",
    "axes[1].plot(X_test_droped.fexpen, y_pred,\"ro\", label=\"OLS prediction\")\n",
    "axes[1].legend(loc=\"best\")\n",
    "\n",
    "plt.tight_layout()"
   ]
  },
  {
   "cell_type": "code",
   "execution_count": 78,
   "id": "ee3d6183",
   "metadata": {},
   "outputs": [
    {
     "data": {
      "text/plain": [
       "Text(0.5, 1.0, 'Linear Regression')"
      ]
     },
     "execution_count": 78,
     "metadata": {},
     "output_type": "execute_result"
    },
    {
     "data": {
      "image/png": "[encoded data removed]",
      "text/plain": [
       "<Figure size 864x576 with 1 Axes>"
      ]
     },
     "metadata": {
      "needs_background": "light"
     },
     "output_type": "display_data"
    }
   ],
   "source": [
    "fig, ax = plt.subplots(figsize=(12, 8))\n",
    "fig = sm.graphics.plot_fit(res, 1,ax=ax) # or use the variable name, such as \"fexpen\"\n",
    "ax.set_ylabel(\"GDP\")\n",
    "ax.set_xlabel(\"Fixed expenditure\")\n",
    "ax.set_title(\"Linear Regression\")"
   ]
  },
  {
   "cell_type": "code",
   "execution_count": 79,
   "id": "0584d7ee",
   "metadata": {},
   "outputs": [
    {
     "data": {
      "image/png": "[encoded data removed]",
      "text/plain": [
       "<Figure size 864x576 with 1 Axes>"
      ]
     },
     "metadata": {
      "needs_background": "light"
     },
     "output_type": "display_data"
    }
   ],
   "source": [
    "fig, ax = plt.subplots(figsize=(12, 8))\n",
    "fig = sm.graphics.plot_ccpr(res, \"fexpen\", ax=ax)"
   ]
  },
  {
   "cell_type": "markdown",
   "id": "816c7130",
   "metadata": {},
   "source": [
    "Reference: https://www.statsmodels.org/dev/graphics.html?highlight=statsmodels%20graphics#module-statsmodels.graphics"
   ]
  }
 ],
 "metadata": {
  "kernelspec": {
   "display_name": "Python 3 (ipykernel)",
   "language": "python",
   "name": "python3"
  },
  "language_info": {
   "codemirror_mode": {
    "name": "ipython",
    "version": 3
   },
   "file_extension": ".py",
   "mimetype": "text/x-python",
   "name": "python",
   "nbconvert_exporter": "python",
   "pygments_lexer": "ipython3",
   "version": "3.9.9"
  }
 },
 "nbformat": 4,
 "nbformat_minor": 5
}
