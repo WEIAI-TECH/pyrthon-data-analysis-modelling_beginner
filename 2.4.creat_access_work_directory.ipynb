{
 "cells": [
  {
   "cell_type": "markdown",
   "id": "2f4e56d5",
   "metadata": {
    "slideshow": {
     "slide_type": "slide"
    }
   },
   "source": [
    "<img src=\"./images/shouke_logo.png\"\n",
    "     style=\"float: right\"\n",
    "     width=100\n",
    "     style=\"padding-bottom:150px;\"/>\n",
    "<br>\n",
    "<br>\n",
    "\n",
    "<table style=\"float:center;\">\n",
    "    <tr>\n",
    "        <td>\n",
    "            <img src='./images/folder_icon.jpg'width=200>\n",
    "        </td>\n",
    "    </tr>\n",
    "</table>\n",
    "\n",
    "<h1 style='text-align: center;'>Creating and Accessing Working Directory </h1>\n",
    "<h3 style='text-align: center;'>Shouke Wei, Ph.D. Professor</h3>\n",
    "<h4 style='text-align: center;'>Email: shouke.wei@gmail.com</h4>    "
   ]
  },
  {
   "cell_type": "markdown",
   "id": "d755fc2e",
   "metadata": {
    "slideshow": {
     "slide_type": "slide"
    }
   },
   "source": [
    "## Objective\n",
    "- check the current working directory \n",
    "- create a new working directory\n",
    "- create subfolders inside it\n",
    "- start Jupyter notebook from the working directory\n",
    "- create a Jupyter notebook in the working directory"
   ]
  },
  {
   "cell_type": "markdown",
   "id": "39ac33d4",
   "metadata": {
    "slideshow": {
     "slide_type": "slide"
    }
   },
   "source": [
    "## 1. Working Directory\n",
    "\n",
    "- or called working space, or folder, where we store our codes and files\n",
    "- Writing and running codes need a working directory"
   ]
  },
  {
   "cell_type": "markdown",
   "id": "0bb9cbcf",
   "metadata": {
    "slideshow": {
     "slide_type": "slide"
    }
   },
   "source": [
    "## 2. Check Current Working Directory (CWD)\n",
    "- Open Anaconda Prompt, type\n",
    "```python\n",
    "Python \n",
    "import os\n",
    "os.getcwd()\n",
    "```\n"
   ]
  },
  {
   "cell_type": "markdown",
   "id": "e3a107fc",
   "metadata": {
    "slideshow": {
     "slide_type": "slide"
    }
   },
   "source": [
    "## 3. Create a New Working Directory \n",
    "\n",
    "- In Anaconda Prompt\n",
    "```\n",
    "D:\n",
    "mkdir data_analysis  \n",
    "```"
   ]
  },
  {
   "cell_type": "markdown",
   "id": "77aaef4c",
   "metadata": {
    "slideshow": {
     "slide_type": "slide"
    }
   },
   "source": [
    "## 4. Create subfolders in the working directory\n",
    "```\n",
    "cd data_analysis\n",
    "mkdir data images results\n",
    "```"
   ]
  },
  {
   "cell_type": "markdown",
   "id": "4c4a84e8",
   "metadata": {
    "slideshow": {
     "slide_type": "slide"
    }
   },
   "source": [
    "## 5. Startup Jupyter Notebook from the New Working Directory\n",
    "\n",
    "```\n",
    "D:\n",
    "cd data_analysis\n",
    "jupyter notebook\n",
    "```"
   ]
  },
  {
   "cell_type": "markdown",
   "id": "b91ed7c3",
   "metadata": {
    "slideshow": {
     "slide_type": "slide"
    }
   },
   "source": [
    "## 6. Create a Jupyter notebook\n",
    "\n",
    "- Go to dashboard\n",
    "- Go to New\n",
    "- Click Python3\n"
   ]
  }
 ],
 "metadata": {
  "celltoolbar": "Slideshow",
  "kernelspec": {
   "display_name": "Python 3 (ipykernel)",
   "language": "python",
   "name": "python3"
  },
  "language_info": {
   "codemirror_mode": {
    "name": "ipython",
    "version": 3
   },
   "file_extension": ".py",
   "mimetype": "text/x-python",
   "name": "python",
   "nbconvert_exporter": "python",
   "pygments_lexer": "ipython3",
   "version": "3.9.9"
  }
 },
 "nbformat": 4,
 "nbformat_minor": 5
}
