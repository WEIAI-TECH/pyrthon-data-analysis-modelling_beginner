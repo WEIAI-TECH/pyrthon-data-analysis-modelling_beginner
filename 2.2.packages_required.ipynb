{
 "cells": [
  {
   "cell_type": "markdown",
   "metadata": {
    "slideshow": {
     "slide_type": "slide"
    }
   },
   "source": [
    "<img src=\"./images/shouke_logo.png\"\n",
    "     style=\"float: right\"\n",
    "     width=100\n",
    "     style=\"padding-bottom:100px;\"/>\n",
    "<br>\n",
    "<br>\n",
    "\n",
    "<table style=\"float:center;\">\n",
    "    <tr>\n",
    "        <td>\n",
    "            <img src='./images/libraries_required.png'width=200>\n",
    "        </td>\n",
    "    </tr>\n",
    "</table>\n",
    "\n",
    "<h1 style='text-align: center;'>Required Python Packages</h1>\n",
    "<h3 style='text-align: center;'>Shouke Wei, Ph.D. Professor</h3>\n",
    "<h4 style='text-align: center;'>Email: shouke.wei@gmail.com</h4>"
   ]
  },
  {
   "cell_type": "markdown",
   "metadata": {
    "slideshow": {
     "slide_type": "slide"
    }
   },
   "source": [
    "## Objective\n",
    "- glance over the required pakcages"
   ]
  },
  {
   "cell_type": "markdown",
   "metadata": {
    "slideshow": {
     "slide_type": "slide"
    }
   },
   "source": [
    "## 1. Modules, Packages and Libraries"
   ]
  },
  {
   "cell_type": "markdown",
   "metadata": {
    "slideshow": {
     "slide_type": "-"
    }
   },
   "source": [
    "- A Python module: a python file with function(s) and/or class(es) that you can reuse in your code.\n",
    "- A package: like a directory holding subpackages and modules. \n",
    "- A library: a collection of packages. \n",
    "\n",
    "However, the term \"Python library\" is often used interchangeably with “Python package” because packages can also contain modules and other packages (subpackages)."
   ]
  },
  {
   "cell_type": "markdown",
   "metadata": {
    "slideshow": {
     "slide_type": "slide"
    }
   },
   "source": [
    "## 2. Required Packages"
   ]
  },
  {
   "cell_type": "markdown",
   "metadata": {
    "slideshow": {
     "slide_type": "-"
    }
   },
   "source": [
    "### 7 packages/libraries:\n",
    "\n",
    "- [Jupyter Notbook](https://jupyter.org/)：an open-source web application, where one can create and share documents that contain live code, tables, math equations, visualizations and narrative text.\n",
    "- [NumPy](https://numpy.org/doc/stable/user/whatisnumpy.html)：the fundamental package for scientific computing in Python. It provides a multidimensional array object, and an assortment of routines for fast operations on arrays.\n",
    "- [Pandas](https://pandas.pydata.org/)：a Python package for fast and efficient processing of tabular data, time series, matrix data, etc.\n",
    "- [Matplotlib](https://matplotlib.org/)：a popular and comprehensive open source package to create static, animated, and interactive visualizations in Python."
   ]
  },
  {
   "cell_type": "markdown",
   "metadata": {
    "slideshow": {
     "slide_type": "slide"
    }
   },
   "source": [
    "- [Seaborn](https://seaborn.pydata.org/): a Python data visualization package based on matplotlib. It provides a high-level interface for creating attractive and informative statistical graphics.\n",
    "- [Statsmodels](https://www.statsmodels.org/stable/index.html): a Python package that provides classes and functions for the estimation of many different statistical models, conducting statistical tests, and statistical data exploration.\n",
    "- [Scikit-learn](https://scikit-learn.org/stable/): a Python package for machine learning built on top of SciPy, integrating a wide range of state-of-the-art machine learning algorithms for medium-scale supervised and unsupervised problems. "
   ]
  }
 ],
 "metadata": {
  "celltoolbar": "Slideshow",
  "kernelspec": {
   "display_name": "Python 3 (ipykernel)",
   "language": "python",
   "name": "python3"
  },
  "language_info": {
   "codemirror_mode": {
    "name": "ipython",
    "version": 3
   },
   "file_extension": ".py",
   "mimetype": "text/x-python",
   "name": "python",
   "nbconvert_exporter": "python",
   "pygments_lexer": "ipython3",
   "version": "3.9.9"
  }
 },
 "nbformat": 4,
 "nbformat_minor": 4
}
