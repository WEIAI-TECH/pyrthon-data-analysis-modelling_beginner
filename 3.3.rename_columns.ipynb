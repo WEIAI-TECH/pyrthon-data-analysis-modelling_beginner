{
 "cells": [
  {
   "cell_type": "markdown",
   "id": "23e9f5f4",
   "metadata": {},
   "source": [
    "<img src=\"./images/shouke_logo.png\"\n",
    "     style=\"float: right\"\n",
    "     width=150\n",
    "     style=\"padding-bottom:100px;\"/>\n",
    "<br>\n",
    "<br>\n",
    "\n",
    "<table style=\"float:center;\">\n",
    "    <tr>\n",
    "        <td>\n",
    "            <img src='./images/python-logo.png'width=130>\n",
    "        </td>\n",
    "        <td>\n",
    "            <img src='./images/pandas-logo.png'width=150>\n",
    "        </td>\n",
    "    </tr>\n",
    "</table>\n",
    "\n",
    "<h1 style='text-align: center;'>Renaming Columns of DataFrame</h1>\n",
    "<h2 style='text-align: center;'>Shouke Wei, Ph.D. Professor</h2>\n",
    "<h3 style='text-align: center;'>Email: shouke.wei@gmail.com</h3>"
   ]
  },
  {
   "cell_type": "markdown",
   "id": "fae55dc6",
   "metadata": {},
   "source": [
    "## Objective:\n",
    "- learn how to change column names of Pandas DataFrame"
   ]
  },
  {
   "cell_type": "code",
   "execution_count": 28,
   "id": "77578825",
   "metadata": {},
   "outputs": [
    {
     "data": {
      "text/html": [
       "<div>\n",
       "<style scoped>\n",
       "    .dataframe tbody tr th:only-of-type {\n",
       "        vertical-align: middle;\n",
       "    }\n",
       "\n",
       "    .dataframe tbody tr th {\n",
       "        vertical-align: top;\n",
       "    }\n",
       "\n",
       "    .dataframe thead th {\n",
       "        text-align: right;\n",
       "    }\n",
       "</style>\n",
       "<table border=\"1\" class=\"dataframe\">\n",
       "  <thead>\n",
       "    <tr style=\"text-align: right;\">\n",
       "      <th></th>\n",
       "      <th>Province</th>\n",
       "      <th>GDP ranking</th>\n",
       "      <th>Year</th>\n",
       "      <th>GDP (x10^12CNY)</th>\n",
       "      <th>population (x10^7 person)</th>\n",
       "      <th>fixed assets investment (x10^12 CNY)</th>\n",
       "      <th>total imports and exports (x10^8CNY)</th>\n",
       "      <th>fiscal expenditure(x10^12CNY)</th>\n",
       "      <th>urban disposal income per capita (x10^4CNY)</th>\n",
       "    </tr>\n",
       "  </thead>\n",
       "  <tbody>\n",
       "    <tr>\n",
       "      <th>0</th>\n",
       "      <td>Guangdong</td>\n",
       "      <td>First</td>\n",
       "      <td>2000</td>\n",
       "      <td>1.074125</td>\n",
       "      <td>8.650</td>\n",
       "      <td>0.314513</td>\n",
       "      <td>1.408147</td>\n",
       "      <td>0.108032</td>\n",
       "      <td>0.976157</td>\n",
       "    </tr>\n",
       "    <tr>\n",
       "      <th>1</th>\n",
       "      <td>Guangdong</td>\n",
       "      <td>First</td>\n",
       "      <td>2001</td>\n",
       "      <td>1.203925</td>\n",
       "      <td>8.733</td>\n",
       "      <td>0.348443</td>\n",
       "      <td>14.609701</td>\n",
       "      <td>0.132133</td>\n",
       "      <td>1.041519</td>\n",
       "    </tr>\n",
       "    <tr>\n",
       "      <th>2</th>\n",
       "      <td>Guangdong</td>\n",
       "      <td>First</td>\n",
       "      <td>2002</td>\n",
       "      <td>1.350242</td>\n",
       "      <td>8.842</td>\n",
       "      <td>0.385078</td>\n",
       "      <td>1.830169</td>\n",
       "      <td>0.152108</td>\n",
       "      <td>1.113720</td>\n",
       "    </tr>\n",
       "    <tr>\n",
       "      <th>3</th>\n",
       "      <td>Guangdong</td>\n",
       "      <td>First</td>\n",
       "      <td>2003</td>\n",
       "      <td>1.584464</td>\n",
       "      <td>8.963</td>\n",
       "      <td>0.481320</td>\n",
       "      <td>2.346735</td>\n",
       "      <td>0.169563</td>\n",
       "      <td>1.238043</td>\n",
       "    </tr>\n",
       "    <tr>\n",
       "      <th>4</th>\n",
       "      <td>Guangdong</td>\n",
       "      <td>First</td>\n",
       "      <td>2004</td>\n",
       "      <td>1.886462</td>\n",
       "      <td>NaN</td>\n",
       "      <td>0.587002</td>\n",
       "      <td>2.955899</td>\n",
       "      <td>0.185295</td>\n",
       "      <td>1.362765</td>\n",
       "    </tr>\n",
       "  </tbody>\n",
       "</table>\n",
       "</div>"
      ],
      "text/plain": [
       "    Province GDP ranking   Year    GDP (x10^12CNY)  population (x10^7 person)  \\\n",
       "0  Guangdong        First    2000         1.074125                      8.650   \n",
       "1  Guangdong        First    2001         1.203925                      8.733   \n",
       "2  Guangdong        First    2002         1.350242                      8.842   \n",
       "3  Guangdong        First    2003         1.584464                      8.963   \n",
       "4  Guangdong        First    2004         1.886462                        NaN   \n",
       "\n",
       "   fixed assets investment (x10^12 CNY)  total imports and exports (x10^8CNY)  \\\n",
       "0                              0.314513                              1.408147   \n",
       "1                              0.348443                             14.609701   \n",
       "2                              0.385078                              1.830169   \n",
       "3                              0.481320                              2.346735   \n",
       "4                              0.587002                              2.955899   \n",
       "\n",
       "   fiscal expenditure(x10^12CNY)  urban disposal income per capita (x10^4CNY)  \n",
       "0                       0.108032                                     0.976157  \n",
       "1                       0.132133                                     1.041519  \n",
       "2                       0.152108                                     1.113720  \n",
       "3                       0.169563                                     1.238043  \n",
       "4                       0.185295                                     1.362765  "
      ]
     },
     "execution_count": 28,
     "metadata": {},
     "output_type": "execute_result"
    }
   ],
   "source": [
    "# Load the required packages\n",
    "import pandas as pd\n",
    "\n",
    "# Read the data\n",
    "df = pd.read_csv('./data/gdp_china_clean.csv',index_col=0)\n",
    "\n",
    "# show the first 5 rows\n",
    "df.head()"
   ]
  },
  {
   "cell_type": "code",
   "execution_count": 29,
   "id": "6b9e628e",
   "metadata": {
    "scrolled": false
   },
   "outputs": [
    {
     "data": {
      "text/plain": [
       "Index(['Province', 'GDP ranking ', 'Year  ', 'GDP (x10^12CNY)',\n",
       "       'population (x10^7 person)', 'fixed assets investment (x10^12 CNY)',\n",
       "       'total imports and exports (x10^8CNY)', 'fiscal expenditure(x10^12CNY)',\n",
       "       'urban disposal income per capita (x10^4CNY)'],\n",
       "      dtype='object')"
      ]
     },
     "execution_count": 29,
     "metadata": {},
     "output_type": "execute_result"
    }
   ],
   "source": [
    "# show the column names\n",
    "df.columns"
   ]
  },
  {
   "cell_type": "markdown",
   "id": "fc30dc6a",
   "metadata": {},
   "source": [
    "## 1. Using `set_axis` with a list and `inplace=False`"
   ]
  },
  {
   "cell_type": "code",
   "execution_count": 30,
   "id": "43885871",
   "metadata": {},
   "outputs": [],
   "source": [
    "new_colnames = ['prov','gdpr','year','gdp','pop','finv','trade','fexpen','uinc']"
   ]
  },
  {
   "cell_type": "code",
   "execution_count": 32,
   "id": "c7ca40df",
   "metadata": {
    "scrolled": false
   },
   "outputs": [
    {
     "data": {
      "text/html": [
       "<div>\n",
       "<style scoped>\n",
       "    .dataframe tbody tr th:only-of-type {\n",
       "        vertical-align: middle;\n",
       "    }\n",
       "\n",
       "    .dataframe tbody tr th {\n",
       "        vertical-align: top;\n",
       "    }\n",
       "\n",
       "    .dataframe thead th {\n",
       "        text-align: right;\n",
       "    }\n",
       "</style>\n",
       "<table border=\"1\" class=\"dataframe\">\n",
       "  <thead>\n",
       "    <tr style=\"text-align: right;\">\n",
       "      <th></th>\n",
       "      <th>prov</th>\n",
       "      <th>gdpr</th>\n",
       "      <th>year</th>\n",
       "      <th>gdp</th>\n",
       "      <th>pop</th>\n",
       "      <th>finv</th>\n",
       "      <th>trade</th>\n",
       "      <th>fexpen</th>\n",
       "      <th>uinc</th>\n",
       "    </tr>\n",
       "  </thead>\n",
       "  <tbody>\n",
       "    <tr>\n",
       "      <th>0</th>\n",
       "      <td>Guangdong</td>\n",
       "      <td>First</td>\n",
       "      <td>2000</td>\n",
       "      <td>1.074125</td>\n",
       "      <td>8.650</td>\n",
       "      <td>0.314513</td>\n",
       "      <td>1.408147</td>\n",
       "      <td>0.108032</td>\n",
       "      <td>0.976157</td>\n",
       "    </tr>\n",
       "    <tr>\n",
       "      <th>1</th>\n",
       "      <td>Guangdong</td>\n",
       "      <td>First</td>\n",
       "      <td>2001</td>\n",
       "      <td>1.203925</td>\n",
       "      <td>8.733</td>\n",
       "      <td>0.348443</td>\n",
       "      <td>14.609701</td>\n",
       "      <td>0.132133</td>\n",
       "      <td>1.041519</td>\n",
       "    </tr>\n",
       "    <tr>\n",
       "      <th>2</th>\n",
       "      <td>Guangdong</td>\n",
       "      <td>First</td>\n",
       "      <td>2002</td>\n",
       "      <td>1.350242</td>\n",
       "      <td>8.842</td>\n",
       "      <td>0.385078</td>\n",
       "      <td>1.830169</td>\n",
       "      <td>0.152108</td>\n",
       "      <td>1.113720</td>\n",
       "    </tr>\n",
       "    <tr>\n",
       "      <th>3</th>\n",
       "      <td>Guangdong</td>\n",
       "      <td>First</td>\n",
       "      <td>2003</td>\n",
       "      <td>1.584464</td>\n",
       "      <td>8.963</td>\n",
       "      <td>0.481320</td>\n",
       "      <td>2.346735</td>\n",
       "      <td>0.169563</td>\n",
       "      <td>1.238043</td>\n",
       "    </tr>\n",
       "    <tr>\n",
       "      <th>4</th>\n",
       "      <td>Guangdong</td>\n",
       "      <td>First</td>\n",
       "      <td>2004</td>\n",
       "      <td>1.886462</td>\n",
       "      <td>NaN</td>\n",
       "      <td>0.587002</td>\n",
       "      <td>2.955899</td>\n",
       "      <td>0.185295</td>\n",
       "      <td>1.362765</td>\n",
       "    </tr>\n",
       "    <tr>\n",
       "      <th>...</th>\n",
       "      <td>...</td>\n",
       "      <td>...</td>\n",
       "      <td>...</td>\n",
       "      <td>...</td>\n",
       "      <td>...</td>\n",
       "      <td>...</td>\n",
       "      <td>...</td>\n",
       "      <td>...</td>\n",
       "      <td>...</td>\n",
       "    </tr>\n",
       "    <tr>\n",
       "      <th>90</th>\n",
       "      <td>Henan</td>\n",
       "      <td>Fifth</td>\n",
       "      <td>2014</td>\n",
       "      <td>3.493824</td>\n",
       "      <td>9.436</td>\n",
       "      <td>3.078217</td>\n",
       "      <td>0.399111</td>\n",
       "      <td>0.602869</td>\n",
       "      <td>2.367206</td>\n",
       "    </tr>\n",
       "    <tr>\n",
       "      <th>91</th>\n",
       "      <td>Henan</td>\n",
       "      <td>Fifth</td>\n",
       "      <td>2015</td>\n",
       "      <td>3.700216</td>\n",
       "      <td>9.480</td>\n",
       "      <td>3.566035</td>\n",
       "      <td>0.459535</td>\n",
       "      <td>0.679935</td>\n",
       "      <td>2.557561</td>\n",
       "    </tr>\n",
       "    <tr>\n",
       "      <th>92</th>\n",
       "      <td>Henan</td>\n",
       "      <td>Fifth</td>\n",
       "      <td>2016</td>\n",
       "      <td>4.047179</td>\n",
       "      <td>9.532</td>\n",
       "      <td>4.041509</td>\n",
       "      <td>0.471385</td>\n",
       "      <td>0.745374</td>\n",
       "      <td>2.723292</td>\n",
       "    </tr>\n",
       "    <tr>\n",
       "      <th>93</th>\n",
       "      <td>Henan</td>\n",
       "      <td>Fifth</td>\n",
       "      <td>2017</td>\n",
       "      <td>4.455283</td>\n",
       "      <td>9.392</td>\n",
       "      <td>4.449690</td>\n",
       "      <td>0.000523</td>\n",
       "      <td>0.821552</td>\n",
       "      <td>2.955790</td>\n",
       "    </tr>\n",
       "    <tr>\n",
       "      <th>94</th>\n",
       "      <td>Henan</td>\n",
       "      <td>Fifth</td>\n",
       "      <td>2018</td>\n",
       "      <td>4.805586</td>\n",
       "      <td>9.360</td>\n",
       "      <td>4.450960</td>\n",
       "      <td>0.551170</td>\n",
       "      <td>0.921773</td>\n",
       "      <td>3.187420</td>\n",
       "    </tr>\n",
       "  </tbody>\n",
       "</table>\n",
       "<p>95 rows × 9 columns</p>\n",
       "</div>"
      ],
      "text/plain": [
       "         prov   gdpr  year       gdp    pop      finv      trade    fexpen  \\\n",
       "0   Guangdong  First  2000  1.074125  8.650  0.314513   1.408147  0.108032   \n",
       "1   Guangdong  First  2001  1.203925  8.733  0.348443  14.609701  0.132133   \n",
       "2   Guangdong  First  2002  1.350242  8.842  0.385078   1.830169  0.152108   \n",
       "3   Guangdong  First  2003  1.584464  8.963  0.481320   2.346735  0.169563   \n",
       "4   Guangdong  First  2004  1.886462    NaN  0.587002   2.955899  0.185295   \n",
       "..        ...    ...   ...       ...    ...       ...        ...       ...   \n",
       "90      Henan  Fifth  2014  3.493824  9.436  3.078217   0.399111  0.602869   \n",
       "91      Henan  Fifth  2015  3.700216  9.480  3.566035   0.459535  0.679935   \n",
       "92      Henan  Fifth  2016  4.047179  9.532  4.041509   0.471385  0.745374   \n",
       "93      Henan  Fifth  2017  4.455283  9.392  4.449690   0.000523  0.821552   \n",
       "94      Henan  Fifth  2018  4.805586  9.360  4.450960   0.551170  0.921773   \n",
       "\n",
       "        uinc  \n",
       "0   0.976157  \n",
       "1   1.041519  \n",
       "2   1.113720  \n",
       "3   1.238043  \n",
       "4   1.362765  \n",
       "..       ...  \n",
       "90  2.367206  \n",
       "91  2.557561  \n",
       "92  2.723292  \n",
       "93  2.955790  \n",
       "94  3.187420  \n",
       "\n",
       "[95 rows x 9 columns]"
      ]
     },
     "execution_count": 32,
     "metadata": {},
     "output_type": "execute_result"
    }
   ],
   "source": [
    "df.set_axis(new_colnames, axis='columns') #default: inplace=False"
   ]
  },
  {
   "cell_type": "code",
   "execution_count": 33,
   "id": "804f52cd",
   "metadata": {},
   "outputs": [
    {
     "data": {
      "text/plain": [
       "Index(['Province', 'GDP ranking ', 'Year  ', 'GDP (x10^12CNY)',\n",
       "       'population (x10^7 person)', 'fixed assets investment (x10^12 CNY)',\n",
       "       'total imports and exports (x10^8CNY)', 'fiscal expenditure(x10^12CNY)',\n",
       "       'urban disposal income per capita (x10^4CNY)'],\n",
       "      dtype='object')"
      ]
     },
     "execution_count": 33,
     "metadata": {},
     "output_type": "execute_result"
    }
   ],
   "source": [
    "df.columns"
   ]
  },
  {
   "cell_type": "markdown",
   "id": "29593342",
   "metadata": {},
   "source": [
    "## 2. Using the `.columns` attribute with a list "
   ]
  },
  {
   "cell_type": "code",
   "execution_count": 34,
   "id": "3932b48b",
   "metadata": {},
   "outputs": [],
   "source": [
    "new_colnames = ['prov','gdpr','year','gdp','pop','finv','trade','fexpen','uinc']"
   ]
  },
  {
   "cell_type": "code",
   "execution_count": 35,
   "id": "437dd5c9",
   "metadata": {},
   "outputs": [],
   "source": [
    "df.columns = new_colnames"
   ]
  },
  {
   "cell_type": "code",
   "execution_count": 36,
   "id": "70fe46d7",
   "metadata": {},
   "outputs": [
    {
     "data": {
      "text/plain": [
       "Index(['prov', 'gdpr', 'year', 'gdp', 'pop', 'finv', 'trade', 'fexpen',\n",
       "       'uinc'],\n",
       "      dtype='object')"
      ]
     },
     "execution_count": 36,
     "metadata": {},
     "output_type": "execute_result"
    }
   ],
   "source": [
    "df.columns"
   ]
  },
  {
   "cell_type": "markdown",
   "id": "3f188943",
   "metadata": {},
   "source": [
    "The advantage of using 'set_axis' is that it can be used as part of a method chain and that it returns a new copy of the DataFrame. "
   ]
  },
  {
   "cell_type": "markdown",
   "id": "9e3faa7f",
   "metadata": {},
   "source": [
    "## 3. Save the new DataFrame"
   ]
  },
  {
   "cell_type": "code",
   "execution_count": 37,
   "id": "909e5a07",
   "metadata": {},
   "outputs": [],
   "source": [
    "df.to_csv('./data/gdp_china_renamed.csv',index=False)"
   ]
  }
 ],
 "metadata": {
  "kernelspec": {
   "display_name": "Python 3 (ipykernel)",
   "language": "python",
   "name": "python3"
  },
  "language_info": {
   "codemirror_mode": {
    "name": "ipython",
    "version": 3
   },
   "file_extension": ".py",
   "mimetype": "text/x-python",
   "name": "python",
   "nbconvert_exporter": "python",
   "pygments_lexer": "ipython3",
   "version": "3.9.9"
  }
 },
 "nbformat": 4,
 "nbformat_minor": 5
}
