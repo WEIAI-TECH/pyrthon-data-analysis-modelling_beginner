{
 "cells": [
  {
   "cell_type": "markdown",
   "id": "f2b5c8d7",
   "metadata": {},
   "source": [
    "<img src=\"./images/shouke_logo.png\"\n",
    "     style=\"float: right\"\n",
    "     width=100\n",
    "     style=\"padding-bottom:100px;\"/>\n",
    "<br>\n",
    "<br>\n",
    "\n",
    "<table style=\"float:center;\">\n",
    "    <tr>\n",
    "        <td>\n",
    "            <img src='./images/python-logo.png'width=130>\n",
    "        </td>\n",
    "        <td>\n",
    "            <img src='./images/pandas-logo.png'width=150>\n",
    "        </td>\n",
    "    </tr>\n",
    "</table>\n",
    "\n",
    "<h1 style='text-align: center;'>Calculating Summary Statistics of DataFrame</h1>\n",
    "<h3 style='text-align: center;'>Shouke Wei, Ph.D. Professor</h3>\n",
    "<h4 style='text-align: center;'>Email: shouke.wei@gmail.com</h4>"
   ]
  },
  {
   "cell_type": "markdown",
   "id": "0e32020e",
   "metadata": {},
   "source": [
    "## Objective\n",
    "- Learn how to calculate summary statistics of DataFrame, or aggregation statistics "
   ]
  },
  {
   "cell_type": "code",
   "execution_count": 30,
   "id": "60634545",
   "metadata": {},
   "outputs": [
    {
     "data": {
      "text/html": [
       "<div>\n",
       "<style scoped>\n",
       "    .dataframe tbody tr th:only-of-type {\n",
       "        vertical-align: middle;\n",
       "    }\n",
       "\n",
       "    .dataframe tbody tr th {\n",
       "        vertical-align: top;\n",
       "    }\n",
       "\n",
       "    .dataframe thead th {\n",
       "        text-align: right;\n",
       "    }\n",
       "</style>\n",
       "<table border=\"1\" class=\"dataframe\">\n",
       "  <thead>\n",
       "    <tr style=\"text-align: right;\">\n",
       "      <th></th>\n",
       "      <th>prov</th>\n",
       "      <th>gdpr</th>\n",
       "      <th>year</th>\n",
       "      <th>gdp</th>\n",
       "      <th>pop</th>\n",
       "      <th>finv</th>\n",
       "      <th>trade</th>\n",
       "      <th>fexpen</th>\n",
       "      <th>uinc</th>\n",
       "    </tr>\n",
       "  </thead>\n",
       "  <tbody>\n",
       "    <tr>\n",
       "      <th>0</th>\n",
       "      <td>Guangdong</td>\n",
       "      <td>First</td>\n",
       "      <td>2000</td>\n",
       "      <td>1.074125</td>\n",
       "      <td>8.650</td>\n",
       "      <td>0.314513</td>\n",
       "      <td>1.408147</td>\n",
       "      <td>0.108032</td>\n",
       "      <td>0.976157</td>\n",
       "    </tr>\n",
       "    <tr>\n",
       "      <th>1</th>\n",
       "      <td>Guangdong</td>\n",
       "      <td>First</td>\n",
       "      <td>2001</td>\n",
       "      <td>1.203925</td>\n",
       "      <td>8.733</td>\n",
       "      <td>0.348443</td>\n",
       "      <td>14.609701</td>\n",
       "      <td>0.132133</td>\n",
       "      <td>1.041519</td>\n",
       "    </tr>\n",
       "    <tr>\n",
       "      <th>2</th>\n",
       "      <td>Guangdong</td>\n",
       "      <td>First</td>\n",
       "      <td>2002</td>\n",
       "      <td>1.350242</td>\n",
       "      <td>8.842</td>\n",
       "      <td>0.385078</td>\n",
       "      <td>1.830169</td>\n",
       "      <td>0.152108</td>\n",
       "      <td>1.113720</td>\n",
       "    </tr>\n",
       "    <tr>\n",
       "      <th>3</th>\n",
       "      <td>Guangdong</td>\n",
       "      <td>First</td>\n",
       "      <td>2003</td>\n",
       "      <td>1.584464</td>\n",
       "      <td>8.963</td>\n",
       "      <td>0.481320</td>\n",
       "      <td>2.346735</td>\n",
       "      <td>0.169563</td>\n",
       "      <td>1.238043</td>\n",
       "    </tr>\n",
       "    <tr>\n",
       "      <th>4</th>\n",
       "      <td>Guangdong</td>\n",
       "      <td>First</td>\n",
       "      <td>2004</td>\n",
       "      <td>1.886462</td>\n",
       "      <td>NaN</td>\n",
       "      <td>0.587002</td>\n",
       "      <td>2.955899</td>\n",
       "      <td>0.185295</td>\n",
       "      <td>1.362765</td>\n",
       "    </tr>\n",
       "  </tbody>\n",
       "</table>\n",
       "</div>"
      ],
      "text/plain": [
       "        prov   gdpr  year       gdp    pop      finv      trade    fexpen  \\\n",
       "0  Guangdong  First  2000  1.074125  8.650  0.314513   1.408147  0.108032   \n",
       "1  Guangdong  First  2001  1.203925  8.733  0.348443  14.609701  0.132133   \n",
       "2  Guangdong  First  2002  1.350242  8.842  0.385078   1.830169  0.152108   \n",
       "3  Guangdong  First  2003  1.584464  8.963  0.481320   2.346735  0.169563   \n",
       "4  Guangdong  First  2004  1.886462    NaN  0.587002   2.955899  0.185295   \n",
       "\n",
       "       uinc  \n",
       "0  0.976157  \n",
       "1  1.041519  \n",
       "2  1.113720  \n",
       "3  1.238043  \n",
       "4  1.362765  "
      ]
     },
     "execution_count": 30,
     "metadata": {},
     "output_type": "execute_result"
    }
   ],
   "source": [
    "# Load the required packages\n",
    "import pandas as pd\n",
    "\n",
    "# Read the data\n",
    "df = pd.read_csv('./data/gdp_china_renamed.csv')\n",
    "\n",
    "# diplay the first 5 rows\n",
    "df.head()"
   ]
  },
  {
   "cell_type": "markdown",
   "id": "2cdb60d0",
   "metadata": {},
   "source": [
    "## 1. Summary statistics vs. Aggregation statistics\n",
    "- **Summary statistics**: a measure of location, or central tendency of the data, such as mean, median, mode, minimum value, maximum value, range, standard deviation, etc.\n",
    "- **Aggregation statistics**: splits data into subsets, computes summary statistics on each subset"
   ]
  },
  {
   "cell_type": "markdown",
   "id": "d7becd6c",
   "metadata": {},
   "source": [
    "<p style=\"text-align:center;\">Table 1: Built-in Pandas aggregations</p>\n",
    "\n",
    "|Aggregation       |Description|\n",
    "|:-----------------|:--------------------|\n",
    "|count()           |Total number of items|\n",
    "|first(), last()   |First and last item|\n",
    "|mean(), median()  |Mean and median|\n",
    "|min(), max()      |Minimum and maximum|\n",
    "|std(), var()      |Standard deviation and variance|\n",
    "|mad()             |Mean absolute deviation|\n",
    "|prod()            |Product of all items|\n",
    "|sum()             |Sum of all items|"
   ]
  },
  {
   "cell_type": "markdown",
   "id": "56cf1758",
   "metadata": {},
   "source": [
    "## 2. Aggregating statistics\n",
    "#### (1) One column"
   ]
  },
  {
   "cell_type": "code",
   "execution_count": 32,
   "id": "e505bd63",
   "metadata": {
    "scrolled": true
   },
   "outputs": [
    {
     "data": {
      "text/plain": [
       "8.321"
      ]
     },
     "execution_count": 32,
     "metadata": {},
     "output_type": "execute_result"
    }
   ],
   "source": [
    "df['pop'].mean().round(3)"
   ]
  },
  {
   "cell_type": "markdown",
   "id": "01b628e1",
   "metadata": {},
   "source": [
    "#### (2) Multiple columns"
   ]
  },
  {
   "cell_type": "code",
   "execution_count": 33,
   "id": "a8a187d1",
   "metadata": {
    "scrolled": true
   },
   "outputs": [
    {
     "data": {
      "text/plain": [
       "gdp    3.093328\n",
       "pop    9.194000\n",
       "dtype: float64"
      ]
     },
     "execution_count": 33,
     "metadata": {},
     "output_type": "execute_result"
    }
   ],
   "source": [
    "df[['gdp','pop']].median()"
   ]
  },
  {
   "cell_type": "markdown",
   "id": "70026427",
   "metadata": {},
   "source": [
    "## 3. Describe() method\n",
    "#### (1)  Whole DataFrame"
   ]
  },
  {
   "cell_type": "code",
   "execution_count": 35,
   "id": "bdb19fff",
   "metadata": {},
   "outputs": [
    {
     "data": {
      "text/html": [
       "<div>\n",
       "<style scoped>\n",
       "    .dataframe tbody tr th:only-of-type {\n",
       "        vertical-align: middle;\n",
       "    }\n",
       "\n",
       "    .dataframe tbody tr th {\n",
       "        vertical-align: top;\n",
       "    }\n",
       "\n",
       "    .dataframe thead th {\n",
       "        text-align: right;\n",
       "    }\n",
       "</style>\n",
       "<table border=\"1\" class=\"dataframe\">\n",
       "  <thead>\n",
       "    <tr style=\"text-align: right;\">\n",
       "      <th></th>\n",
       "      <th>count</th>\n",
       "      <th>mean</th>\n",
       "      <th>std</th>\n",
       "      <th>min</th>\n",
       "      <th>25%</th>\n",
       "      <th>50%</th>\n",
       "      <th>75%</th>\n",
       "      <th>max</th>\n",
       "    </tr>\n",
       "  </thead>\n",
       "  <tbody>\n",
       "    <tr>\n",
       "      <th>year</th>\n",
       "      <td>95.0</td>\n",
       "      <td>2009.000000</td>\n",
       "      <td>5.506283</td>\n",
       "      <td>2000.000000</td>\n",
       "      <td>2004.000000</td>\n",
       "      <td>2009.000000</td>\n",
       "      <td>2014.000000</td>\n",
       "      <td>2018.000000</td>\n",
       "    </tr>\n",
       "    <tr>\n",
       "      <th>gdp</th>\n",
       "      <td>95.0</td>\n",
       "      <td>3.456443</td>\n",
       "      <td>2.365092</td>\n",
       "      <td>0.505299</td>\n",
       "      <td>1.425301</td>\n",
       "      <td>3.093328</td>\n",
       "      <td>4.956176</td>\n",
       "      <td>9.727777</td>\n",
       "    </tr>\n",
       "    <tr>\n",
       "      <th>pop</th>\n",
       "      <td>93.0</td>\n",
       "      <td>8.321032</td>\n",
       "      <td>1.802813</td>\n",
       "      <td>4.680000</td>\n",
       "      <td>7.588000</td>\n",
       "      <td>9.194000</td>\n",
       "      <td>9.488000</td>\n",
       "      <td>10.999000</td>\n",
       "    </tr>\n",
       "    <tr>\n",
       "      <th>finv</th>\n",
       "      <td>95.0</td>\n",
       "      <td>1.914406</td>\n",
       "      <td>1.558411</td>\n",
       "      <td>0.137774</td>\n",
       "      <td>0.588736</td>\n",
       "      <td>1.418528</td>\n",
       "      <td>3.056260</td>\n",
       "      <td>5.521350</td>\n",
       "    </tr>\n",
       "    <tr>\n",
       "      <th>trade</th>\n",
       "      <td>95.0</td>\n",
       "      <td>2.122045</td>\n",
       "      <td>2.300531</td>\n",
       "      <td>0.000523</td>\n",
       "      <td>0.412089</td>\n",
       "      <td>1.523541</td>\n",
       "      <td>3.054562</td>\n",
       "      <td>14.609701</td>\n",
       "    </tr>\n",
       "    <tr>\n",
       "      <th>fexpen</th>\n",
       "      <td>95.0</td>\n",
       "      <td>0.448604</td>\n",
       "      <td>0.366626</td>\n",
       "      <td>0.043130</td>\n",
       "      <td>0.138071</td>\n",
       "      <td>0.326767</td>\n",
       "      <td>0.700097</td>\n",
       "      <td>1.572926</td>\n",
       "    </tr>\n",
       "    <tr>\n",
       "      <th>uinc</th>\n",
       "      <td>95.0</td>\n",
       "      <td>2.204282</td>\n",
       "      <td>1.225310</td>\n",
       "      <td>0.476626</td>\n",
       "      <td>1.159632</td>\n",
       "      <td>1.994583</td>\n",
       "      <td>3.059870</td>\n",
       "      <td>5.557430</td>\n",
       "    </tr>\n",
       "  </tbody>\n",
       "</table>\n",
       "</div>"
      ],
      "text/plain": [
       "        count         mean       std          min          25%          50%  \\\n",
       "year     95.0  2009.000000  5.506283  2000.000000  2004.000000  2009.000000   \n",
       "gdp      95.0     3.456443  2.365092     0.505299     1.425301     3.093328   \n",
       "pop      93.0     8.321032  1.802813     4.680000     7.588000     9.194000   \n",
       "finv     95.0     1.914406  1.558411     0.137774     0.588736     1.418528   \n",
       "trade    95.0     2.122045  2.300531     0.000523     0.412089     1.523541   \n",
       "fexpen   95.0     0.448604  0.366626     0.043130     0.138071     0.326767   \n",
       "uinc     95.0     2.204282  1.225310     0.476626     1.159632     1.994583   \n",
       "\n",
       "                75%          max  \n",
       "year    2014.000000  2018.000000  \n",
       "gdp        4.956176     9.727777  \n",
       "pop        9.488000    10.999000  \n",
       "finv       3.056260     5.521350  \n",
       "trade      3.054562    14.609701  \n",
       "fexpen     0.700097     1.572926  \n",
       "uinc       3.059870     5.557430  "
      ]
     },
     "execution_count": 35,
     "metadata": {},
     "output_type": "execute_result"
    }
   ],
   "source": [
    "df.describe().T"
   ]
  },
  {
   "cell_type": "markdown",
   "id": "3ab49968",
   "metadata": {},
   "source": [
    "#### (2) Multiple columns "
   ]
  },
  {
   "cell_type": "code",
   "execution_count": 36,
   "id": "f1ee3a12",
   "metadata": {},
   "outputs": [
    {
     "data": {
      "text/html": [
       "<div>\n",
       "<style scoped>\n",
       "    .dataframe tbody tr th:only-of-type {\n",
       "        vertical-align: middle;\n",
       "    }\n",
       "\n",
       "    .dataframe tbody tr th {\n",
       "        vertical-align: top;\n",
       "    }\n",
       "\n",
       "    .dataframe thead th {\n",
       "        text-align: right;\n",
       "    }\n",
       "</style>\n",
       "<table border=\"1\" class=\"dataframe\">\n",
       "  <thead>\n",
       "    <tr style=\"text-align: right;\">\n",
       "      <th></th>\n",
       "      <th>gdp</th>\n",
       "      <th>pop</th>\n",
       "    </tr>\n",
       "  </thead>\n",
       "  <tbody>\n",
       "    <tr>\n",
       "      <th>count</th>\n",
       "      <td>95.000000</td>\n",
       "      <td>93.000000</td>\n",
       "    </tr>\n",
       "    <tr>\n",
       "      <th>mean</th>\n",
       "      <td>3.456443</td>\n",
       "      <td>8.321032</td>\n",
       "    </tr>\n",
       "    <tr>\n",
       "      <th>std</th>\n",
       "      <td>2.365092</td>\n",
       "      <td>1.802813</td>\n",
       "    </tr>\n",
       "    <tr>\n",
       "      <th>min</th>\n",
       "      <td>0.505299</td>\n",
       "      <td>4.680000</td>\n",
       "    </tr>\n",
       "    <tr>\n",
       "      <th>25%</th>\n",
       "      <td>1.425301</td>\n",
       "      <td>7.588000</td>\n",
       "    </tr>\n",
       "    <tr>\n",
       "      <th>50%</th>\n",
       "      <td>3.093328</td>\n",
       "      <td>9.194000</td>\n",
       "    </tr>\n",
       "    <tr>\n",
       "      <th>75%</th>\n",
       "      <td>4.956176</td>\n",
       "      <td>9.488000</td>\n",
       "    </tr>\n",
       "    <tr>\n",
       "      <th>max</th>\n",
       "      <td>9.727777</td>\n",
       "      <td>10.999000</td>\n",
       "    </tr>\n",
       "  </tbody>\n",
       "</table>\n",
       "</div>"
      ],
      "text/plain": [
       "             gdp        pop\n",
       "count  95.000000  93.000000\n",
       "mean    3.456443   8.321032\n",
       "std     2.365092   1.802813\n",
       "min     0.505299   4.680000\n",
       "25%     1.425301   7.588000\n",
       "50%     3.093328   9.194000\n",
       "75%     4.956176   9.488000\n",
       "max     9.727777  10.999000"
      ]
     },
     "execution_count": 36,
     "metadata": {},
     "output_type": "execute_result"
    }
   ],
   "source": [
    "df[['gdp','pop']].describe()"
   ]
  },
  {
   "cell_type": "markdown",
   "id": "15359ec9",
   "metadata": {},
   "source": [
    "## 4. agg() method \n",
    "- specific combinations of aggregating statistics for given columns"
   ]
  },
  {
   "cell_type": "code",
   "execution_count": 37,
   "id": "c3bd6290",
   "metadata": {},
   "outputs": [
    {
     "data": {
      "text/html": [
       "<div>\n",
       "<style scoped>\n",
       "    .dataframe tbody tr th:only-of-type {\n",
       "        vertical-align: middle;\n",
       "    }\n",
       "\n",
       "    .dataframe tbody tr th {\n",
       "        vertical-align: top;\n",
       "    }\n",
       "\n",
       "    .dataframe thead th {\n",
       "        text-align: right;\n",
       "    }\n",
       "</style>\n",
       "<table border=\"1\" class=\"dataframe\">\n",
       "  <thead>\n",
       "    <tr style=\"text-align: right;\">\n",
       "      <th></th>\n",
       "      <th>gdp</th>\n",
       "      <th>pop</th>\n",
       "    </tr>\n",
       "  </thead>\n",
       "  <tbody>\n",
       "    <tr>\n",
       "      <th>min</th>\n",
       "      <td>0.505299</td>\n",
       "      <td>4.680000</td>\n",
       "    </tr>\n",
       "    <tr>\n",
       "      <th>max</th>\n",
       "      <td>9.727777</td>\n",
       "      <td>10.999000</td>\n",
       "    </tr>\n",
       "    <tr>\n",
       "      <th>median</th>\n",
       "      <td>3.093328</td>\n",
       "      <td>9.194000</td>\n",
       "    </tr>\n",
       "    <tr>\n",
       "      <th>skew</th>\n",
       "      <td>0.767165</td>\n",
       "      <td>NaN</td>\n",
       "    </tr>\n",
       "    <tr>\n",
       "      <th>mean</th>\n",
       "      <td>NaN</td>\n",
       "      <td>8.321032</td>\n",
       "    </tr>\n",
       "  </tbody>\n",
       "</table>\n",
       "</div>"
      ],
      "text/plain": [
       "             gdp        pop\n",
       "min     0.505299   4.680000\n",
       "max     9.727777  10.999000\n",
       "median  3.093328   9.194000\n",
       "skew    0.767165        NaN\n",
       "mean         NaN   8.321032"
      ]
     },
     "execution_count": 37,
     "metadata": {},
     "output_type": "execute_result"
    }
   ],
   "source": [
    "df.agg(\n",
    "    {\n",
    "        'gdp':['min','max','median','skew'],\n",
    "        'pop':['min','max','median','mean']\n",
    "        \n",
    "    }\n",
    ")"
   ]
  },
  {
   "cell_type": "markdown",
   "id": "49226761",
   "metadata": {},
   "source": [
    "## 5. Aggregating statistics grouped by category"
   ]
  },
  {
   "cell_type": "markdown",
   "id": "93d5cc31",
   "metadata": {},
   "source": [
    "#### (1)  Average GDP for each of the 5 provinces"
   ]
  },
  {
   "cell_type": "code",
   "execution_count": 38,
   "id": "47bc9bcd",
   "metadata": {
    "scrolled": false
   },
   "outputs": [
    {
     "data": {
      "text/html": [
       "<div>\n",
       "<style scoped>\n",
       "    .dataframe tbody tr th:only-of-type {\n",
       "        vertical-align: middle;\n",
       "    }\n",
       "\n",
       "    .dataframe tbody tr th {\n",
       "        vertical-align: top;\n",
       "    }\n",
       "\n",
       "    .dataframe thead th {\n",
       "        text-align: right;\n",
       "    }\n",
       "</style>\n",
       "<table border=\"1\" class=\"dataframe\">\n",
       "  <thead>\n",
       "    <tr style=\"text-align: right;\">\n",
       "      <th></th>\n",
       "      <th>gdp</th>\n",
       "    </tr>\n",
       "    <tr>\n",
       "      <th>prov</th>\n",
       "      <th></th>\n",
       "    </tr>\n",
       "  </thead>\n",
       "  <tbody>\n",
       "    <tr>\n",
       "      <th>Guangdong</th>\n",
       "      <td>4.502210</td>\n",
       "    </tr>\n",
       "    <tr>\n",
       "      <th>Henan</th>\n",
       "      <td>2.233366</td>\n",
       "    </tr>\n",
       "    <tr>\n",
       "      <th>Jiangsu</th>\n",
       "      <td>4.122462</td>\n",
       "    </tr>\n",
       "    <tr>\n",
       "      <th>Shandong</th>\n",
       "      <td>3.763760</td>\n",
       "    </tr>\n",
       "    <tr>\n",
       "      <th>Zhejiang</th>\n",
       "      <td>2.660416</td>\n",
       "    </tr>\n",
       "  </tbody>\n",
       "</table>\n",
       "</div>"
      ],
      "text/plain": [
       "                gdp\n",
       "prov               \n",
       "Guangdong  4.502210\n",
       "Henan      2.233366\n",
       "Jiangsu    4.122462\n",
       "Shandong   3.763760\n",
       "Zhejiang   2.660416"
      ]
     },
     "execution_count": 38,
     "metadata": {},
     "output_type": "execute_result"
    }
   ],
   "source": [
    "df.groupby(['prov'])[['gdp']].mean()"
   ]
  },
  {
   "cell_type": "markdown",
   "id": "a499cd40",
   "metadata": {},
   "source": [
    "#### (2) Average of each collumn for each of the 5 provinces"
   ]
  },
  {
   "cell_type": "code",
   "execution_count": 39,
   "id": "2207b7e6",
   "metadata": {},
   "outputs": [
    {
     "data": {
      "text/html": [
       "<div>\n",
       "<style scoped>\n",
       "    .dataframe tbody tr th:only-of-type {\n",
       "        vertical-align: middle;\n",
       "    }\n",
       "\n",
       "    .dataframe tbody tr th {\n",
       "        vertical-align: top;\n",
       "    }\n",
       "\n",
       "    .dataframe thead th {\n",
       "        text-align: right;\n",
       "    }\n",
       "</style>\n",
       "<table border=\"1\" class=\"dataframe\">\n",
       "  <thead>\n",
       "    <tr style=\"text-align: right;\">\n",
       "      <th></th>\n",
       "      <th>year</th>\n",
       "      <th>gdp</th>\n",
       "      <th>pop</th>\n",
       "      <th>finv</th>\n",
       "      <th>trade</th>\n",
       "      <th>fexpen</th>\n",
       "      <th>uinc</th>\n",
       "    </tr>\n",
       "    <tr>\n",
       "      <th>prov</th>\n",
       "      <th></th>\n",
       "      <th></th>\n",
       "      <th></th>\n",
       "      <th></th>\n",
       "      <th></th>\n",
       "      <th></th>\n",
       "      <th></th>\n",
       "    </tr>\n",
       "  </thead>\n",
       "  <tbody>\n",
       "    <tr>\n",
       "      <th>Guangdong</th>\n",
       "      <td>2009.0</td>\n",
       "      <td>4.502210</td>\n",
       "      <td>9.853611</td>\n",
       "      <td>1.623354</td>\n",
       "      <td>5.371958</td>\n",
       "      <td>0.619538</td>\n",
       "      <td>2.355681</td>\n",
       "    </tr>\n",
       "    <tr>\n",
       "      <th>Henan</th>\n",
       "      <td>2009.0</td>\n",
       "      <td>2.233366</td>\n",
       "      <td>9.468421</td>\n",
       "      <td>1.737832</td>\n",
       "      <td>0.185544</td>\n",
       "      <td>0.361909</td>\n",
       "      <td>1.593100</td>\n",
       "    </tr>\n",
       "    <tr>\n",
       "      <th>Jiangsu</th>\n",
       "      <td>2009.0</td>\n",
       "      <td>4.122462</td>\n",
       "      <td>7.723889</td>\n",
       "      <td>2.352070</td>\n",
       "      <td>2.509187</td>\n",
       "      <td>0.496992</td>\n",
       "      <td>2.300790</td>\n",
       "    </tr>\n",
       "    <tr>\n",
       "      <th>Shandong</th>\n",
       "      <td>2009.0</td>\n",
       "      <td>3.763760</td>\n",
       "      <td>9.428368</td>\n",
       "      <td>2.427043</td>\n",
       "      <td>1.075928</td>\n",
       "      <td>0.427598</td>\n",
       "      <td>1.983445</td>\n",
       "    </tr>\n",
       "    <tr>\n",
       "      <th>Zhejiang</th>\n",
       "      <td>2009.0</td>\n",
       "      <td>2.660416</td>\n",
       "      <td>5.180105</td>\n",
       "      <td>1.431730</td>\n",
       "      <td>1.467606</td>\n",
       "      <td>0.336983</td>\n",
       "      <td>2.788392</td>\n",
       "    </tr>\n",
       "  </tbody>\n",
       "</table>\n",
       "</div>"
      ],
      "text/plain": [
       "             year       gdp       pop      finv     trade    fexpen      uinc\n",
       "prov                                                                         \n",
       "Guangdong  2009.0  4.502210  9.853611  1.623354  5.371958  0.619538  2.355681\n",
       "Henan      2009.0  2.233366  9.468421  1.737832  0.185544  0.361909  1.593100\n",
       "Jiangsu    2009.0  4.122462  7.723889  2.352070  2.509187  0.496992  2.300790\n",
       "Shandong   2009.0  3.763760  9.428368  2.427043  1.075928  0.427598  1.983445\n",
       "Zhejiang   2009.0  2.660416  5.180105  1.431730  1.467606  0.336983  2.788392"
      ]
     },
     "execution_count": 39,
     "metadata": {},
     "output_type": "execute_result"
    }
   ],
   "source": [
    "df.groupby(['prov']).mean()"
   ]
  },
  {
   "cell_type": "markdown",
   "id": "f4cdf3cb",
   "metadata": {},
   "source": [
    "## 6. Count total numbers of column items by category¶"
   ]
  },
  {
   "cell_type": "code",
   "execution_count": 41,
   "id": "86eb1722",
   "metadata": {},
   "outputs": [
    {
     "data": {
      "text/html": [
       "<div>\n",
       "<style scoped>\n",
       "    .dataframe tbody tr th:only-of-type {\n",
       "        vertical-align: middle;\n",
       "    }\n",
       "\n",
       "    .dataframe tbody tr th {\n",
       "        vertical-align: top;\n",
       "    }\n",
       "\n",
       "    .dataframe thead th {\n",
       "        text-align: right;\n",
       "    }\n",
       "</style>\n",
       "<table border=\"1\" class=\"dataframe\">\n",
       "  <thead>\n",
       "    <tr style=\"text-align: right;\">\n",
       "      <th></th>\n",
       "      <th>gdp</th>\n",
       "    </tr>\n",
       "    <tr>\n",
       "      <th>prov</th>\n",
       "      <th></th>\n",
       "    </tr>\n",
       "  </thead>\n",
       "  <tbody>\n",
       "    <tr>\n",
       "      <th>Guangdong</th>\n",
       "      <td>19</td>\n",
       "    </tr>\n",
       "    <tr>\n",
       "      <th>Henan</th>\n",
       "      <td>19</td>\n",
       "    </tr>\n",
       "    <tr>\n",
       "      <th>Jiangsu</th>\n",
       "      <td>19</td>\n",
       "    </tr>\n",
       "    <tr>\n",
       "      <th>Shandong</th>\n",
       "      <td>19</td>\n",
       "    </tr>\n",
       "    <tr>\n",
       "      <th>Zhejiang</th>\n",
       "      <td>19</td>\n",
       "    </tr>\n",
       "  </tbody>\n",
       "</table>\n",
       "</div>"
      ],
      "text/plain": [
       "           gdp\n",
       "prov          \n",
       "Guangdong   19\n",
       "Henan       19\n",
       "Jiangsu     19\n",
       "Shandong    19\n",
       "Zhejiang    19"
      ]
     },
     "execution_count": 41,
     "metadata": {},
     "output_type": "execute_result"
    }
   ],
   "source": [
    "df.groupby(['prov'])[['gdp']].count()"
   ]
  }
 ],
 "metadata": {
  "kernelspec": {
   "display_name": "Python 3 (ipykernel)",
   "language": "python",
   "name": "python3"
  },
  "language_info": {
   "codemirror_mode": {
    "name": "ipython",
    "version": 3
   },
   "file_extension": ".py",
   "mimetype": "text/x-python",
   "name": "python",
   "nbconvert_exporter": "python",
   "pygments_lexer": "ipython3",
   "version": "3.9.9"
  }
 },
 "nbformat": 4,
 "nbformat_minor": 5
}
