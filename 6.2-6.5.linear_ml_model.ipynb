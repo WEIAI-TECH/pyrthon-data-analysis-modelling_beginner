{
 "cells": [
  {
   "cell_type": "markdown",
   "id": "2482f111",
   "metadata": {},
   "source": [
    "<img src=\"./images/shouke_logo.png\"\n",
    "     style=\"float: right\"\n",
    "     width=100\n",
    "     style=\"padding-bottom:100px;\"/>\n",
    "<br>\n",
    "<br>\n",
    "\n",
    "<table style=\"float:center;\">\n",
    "    <tr>\n",
    "        <td>\n",
    "            <img src='./images/python-logo.png'width=120>\n",
    "        </td>\n",
    "        <td>\n",
    "            <img src='./images/pandas-logo.png'width=150>\n",
    "        </td>\n",
    "        <td>\n",
    "            <img src='./images/scikit_learn_logo.png'width=150>\n",
    "        </td>\n",
    "    </tr>\n",
    "</table>\n",
    "\n",
    "<h1 style='text-align: center;'>Machine Learning Linear Regression Models</h1>\n",
    "<h3 style='text-align: center;'>Shouke Wei, Ph.D. Professor</h3>\n",
    "<h4 style='text-align: center;'>Email: shouke.wei@gmail.com</h4>"
   ]
  },
  {
   "cell_type": "markdown",
   "id": "9dd5cf63",
   "metadata": {},
   "source": [
    "## Objective\n",
    "- In this section, we will learn how to develop linear regression models using machine learning approach"
   ]
  },
  {
   "cell_type": "markdown",
   "id": "e4be02ff",
   "metadata": {},
   "source": [
    "## 1. Import required packages"
   ]
  },
  {
   "cell_type": "code",
   "execution_count": 1,
   "id": "e0d366fa",
   "metadata": {
    "scrolled": true
   },
   "outputs": [],
   "source": [
    "import pandas as pd\n",
    "import matplotlib.pyplot as plt\n",
    "from sklearn.preprocessing import MinMaxScaler\n",
    "from sklearn.model_selection import train_test_split\n",
    "from sklearn.linear_model import LinearRegression\n",
    "from sklearn.metrics import r2_score, mean_absolute_error,mean_squared_error,mean_absolute_percentage_error"
   ]
  },
  {
   "cell_type": "markdown",
   "id": "eef6bc98",
   "metadata": {},
   "source": [
    "## 2. Read data"
   ]
  },
  {
   "cell_type": "code",
   "execution_count": 2,
   "id": "e7649ea2",
   "metadata": {
    "scrolled": false
   },
   "outputs": [
    {
     "data": {
      "text/html": [
       "<div>\n",
       "<style scoped>\n",
       "    .dataframe tbody tr th:only-of-type {\n",
       "        vertical-align: middle;\n",
       "    }\n",
       "\n",
       "    .dataframe tbody tr th {\n",
       "        vertical-align: top;\n",
       "    }\n",
       "\n",
       "    .dataframe thead th {\n",
       "        text-align: right;\n",
       "    }\n",
       "</style>\n",
       "<table border=\"1\" class=\"dataframe\">\n",
       "  <thead>\n",
       "    <tr style=\"text-align: right;\">\n",
       "      <th></th>\n",
       "      <th>year</th>\n",
       "      <th>gdp</th>\n",
       "      <th>pop</th>\n",
       "      <th>finv</th>\n",
       "      <th>trade</th>\n",
       "      <th>fexpen</th>\n",
       "      <th>uinc</th>\n",
       "      <th>prov_hn</th>\n",
       "      <th>prov_js</th>\n",
       "      <th>prov_sd</th>\n",
       "      <th>prov_zj</th>\n",
       "    </tr>\n",
       "  </thead>\n",
       "  <tbody>\n",
       "    <tr>\n",
       "      <th>0</th>\n",
       "      <td>2000</td>\n",
       "      <td>1.074125</td>\n",
       "      <td>8.650000</td>\n",
       "      <td>0.314513</td>\n",
       "      <td>1.408147</td>\n",
       "      <td>0.108032</td>\n",
       "      <td>0.976157</td>\n",
       "      <td>0.0</td>\n",
       "      <td>0.0</td>\n",
       "      <td>0.0</td>\n",
       "      <td>0.0</td>\n",
       "    </tr>\n",
       "    <tr>\n",
       "      <th>1</th>\n",
       "      <td>2001</td>\n",
       "      <td>1.203925</td>\n",
       "      <td>8.733000</td>\n",
       "      <td>0.348443</td>\n",
       "      <td>1.501391</td>\n",
       "      <td>0.132133</td>\n",
       "      <td>1.041519</td>\n",
       "      <td>0.0</td>\n",
       "      <td>0.0</td>\n",
       "      <td>0.0</td>\n",
       "      <td>0.0</td>\n",
       "    </tr>\n",
       "    <tr>\n",
       "      <th>2</th>\n",
       "      <td>2002</td>\n",
       "      <td>1.350242</td>\n",
       "      <td>8.842000</td>\n",
       "      <td>0.385078</td>\n",
       "      <td>1.830169</td>\n",
       "      <td>0.152108</td>\n",
       "      <td>1.113720</td>\n",
       "      <td>0.0</td>\n",
       "      <td>0.0</td>\n",
       "      <td>0.0</td>\n",
       "      <td>0.0</td>\n",
       "    </tr>\n",
       "    <tr>\n",
       "      <th>3</th>\n",
       "      <td>2003</td>\n",
       "      <td>1.584464</td>\n",
       "      <td>8.963000</td>\n",
       "      <td>0.481320</td>\n",
       "      <td>2.346735</td>\n",
       "      <td>0.169563</td>\n",
       "      <td>1.238043</td>\n",
       "      <td>0.0</td>\n",
       "      <td>0.0</td>\n",
       "      <td>0.0</td>\n",
       "      <td>0.0</td>\n",
       "    </tr>\n",
       "    <tr>\n",
       "      <th>4</th>\n",
       "      <td>2004</td>\n",
       "      <td>1.886462</td>\n",
       "      <td>9.052298</td>\n",
       "      <td>0.587002</td>\n",
       "      <td>2.955899</td>\n",
       "      <td>0.185295</td>\n",
       "      <td>1.362765</td>\n",
       "      <td>0.0</td>\n",
       "      <td>0.0</td>\n",
       "      <td>0.0</td>\n",
       "      <td>0.0</td>\n",
       "    </tr>\n",
       "  </tbody>\n",
       "</table>\n",
       "</div>"
      ],
      "text/plain": [
       "   year       gdp       pop      finv     trade    fexpen      uinc  prov_hn  \\\n",
       "0  2000  1.074125  8.650000  0.314513  1.408147  0.108032  0.976157      0.0   \n",
       "1  2001  1.203925  8.733000  0.348443  1.501391  0.132133  1.041519      0.0   \n",
       "2  2002  1.350242  8.842000  0.385078  1.830169  0.152108  1.113720      0.0   \n",
       "3  2003  1.584464  8.963000  0.481320  2.346735  0.169563  1.238043      0.0   \n",
       "4  2004  1.886462  9.052298  0.587002  2.955899  0.185295  1.362765      0.0   \n",
       "\n",
       "   prov_js  prov_sd  prov_zj  \n",
       "0      0.0      0.0      0.0  \n",
       "1      0.0      0.0      0.0  \n",
       "2      0.0      0.0      0.0  \n",
       "3      0.0      0.0      0.0  \n",
       "4      0.0      0.0      0.0  "
      ]
     },
     "execution_count": 2,
     "metadata": {},
     "output_type": "execute_result"
    }
   ],
   "source": [
    "df = pd.read_csv('./data/gdp_china_encoded.csv',index_col=False)\n",
    "df.head()"
   ]
  },
  {
   "cell_type": "markdown",
   "id": "2121d679",
   "metadata": {},
   "source": [
    "## 3. Slice data into features X and target y"
   ]
  },
  {
   "cell_type": "code",
   "execution_count": 3,
   "id": "1025611e",
   "metadata": {
    "scrolled": false
   },
   "outputs": [],
   "source": [
    "X = df.drop(['gdp'],axis=1)\n",
    "y = df['gdp']"
   ]
  },
  {
   "cell_type": "markdown",
   "id": "65412700",
   "metadata": {},
   "source": [
    "## 4. Split dataset for model training and testing"
   ]
  },
  {
   "cell_type": "code",
   "execution_count": 4,
   "id": "df2003a6",
   "metadata": {
    "scrolled": false
   },
   "outputs": [],
   "source": [
    "X_train, X_test, y_train, y_test = train_test_split(X, y,test_size=0.30, random_state=1)"
   ]
  },
  {
   "cell_type": "markdown",
   "id": "8e3a6bcf",
   "metadata": {},
   "source": [
    "## 5. Data Normalization"
   ]
  },
  {
   "cell_type": "code",
   "execution_count": 5,
   "id": "ed49e650",
   "metadata": {
    "scrolled": false
   },
   "outputs": [],
   "source": [
    "# MinMaxScaler method\n",
    "# slice the continous features of training dataset\n",
    "X_train_continuous = X_train.loc[:,'year':'uinc']\n",
    "# fit the scaler and transform the training features\n",
    "min_max_scaler = MinMaxScaler().fit(X_train_continuous)\n",
    "X_train_continous_scaled = min_max_scaler.transform(X_train_continuous)\n",
    "# get scaled X_train dataset\n",
    "X_train_scaled = X_train.copy()\n",
    "X_train_scaled.loc[:,'year':'uinc'] = X_train_continous_scaled\n",
    "\n",
    "# slice the continous features of testing dataset\n",
    "X_test_continuous = X_test.loc[:,'year':'uinc']\n",
    "# transform the data\n",
    "X_test_continous_scaled = min_max_scaler.transform(X_test_continuous)\n",
    "# get scaled X_test dataset\n",
    "X_test_scaled = X_test.copy()\n",
    "X_test_scaled.loc[:,'year':'uinc'] = X_test_continous_scaled"
   ]
  },
  {
   "cell_type": "markdown",
   "id": "bf325ae9",
   "metadata": {},
   "source": [
    "## 6. Train the model"
   ]
  },
  {
   "cell_type": "markdown",
   "id": "5932feb3",
   "metadata": {},
   "source": [
    "### (1)  Define the model and train to fit it"
   ]
  },
  {
   "cell_type": "code",
   "execution_count": 6,
   "id": "0f69bb76",
   "metadata": {
    "scrolled": false
   },
   "outputs": [],
   "source": [
    "lr = LinearRegression()\n",
    "model = lr.fit(X_train_scaled, y_train)"
   ]
  },
  {
   "cell_type": "markdown",
   "id": "cdaa9ea8",
   "metadata": {},
   "source": [
    "### (2) Assess the training"
   ]
  },
  {
   "cell_type": "code",
   "execution_count": 7,
   "id": "611b61ce",
   "metadata": {
    "scrolled": false
   },
   "outputs": [],
   "source": [
    "pred_train = model.predict(X_train_scaled)"
   ]
  },
  {
   "cell_type": "code",
   "execution_count": 8,
   "id": "1449811f",
   "metadata": {
    "scrolled": true
   },
   "outputs": [
    {
     "name": "stdout",
     "output_type": "stream",
     "text": [
      "R-squared: 0.992\n",
      "Mean absolute error (MAE): 0.181\n",
      "Mean squared error (MSE): 0.051\n",
      "Root Mean squared error (RMSE): 0.226\n",
      "Mean absolute percentage error (MAPE) : 0.079\n"
     ]
    }
   ],
   "source": [
    "print(f'R-squared: {r2_score(y_train, pred_train):.3f}')\n",
    "print(f'Mean absolute error (MAE): {mean_absolute_error(y_train, pred_train):.3f}')\n",
    "print(f'Mean squared error (MSE): {mean_squared_error(y_train, pred_train):.3f}')\n",
    "print(f'Root Mean squared error (RMSE): {mean_squared_error(y_train, pred_train, squared=False):.3f}')\n",
    "print(f'Mean absolute percentage error (MAPE) : {mean_absolute_percentage_error(y_train, pred_train):.3f}')"
   ]
  },
  {
   "cell_type": "markdown",
   "id": "41f7d7a8",
   "metadata": {},
   "source": [
    "## 7. Evaluate the model"
   ]
  },
  {
   "cell_type": "code",
   "execution_count": 9,
   "id": "6656fbb1",
   "metadata": {
    "scrolled": false
   },
   "outputs": [],
   "source": [
    "pred_test = model.predict(X_test_scaled)"
   ]
  },
  {
   "cell_type": "code",
   "execution_count": 10,
   "id": "bc3aef41",
   "metadata": {
    "scrolled": false
   },
   "outputs": [
    {
     "name": "stdout",
     "output_type": "stream",
     "text": [
      "R-squared: 0.983\n",
      "Mean absolute error (MAE): 0.209\n",
      "Mean squared error (MSE): 0.071\n",
      "Root Mean squared error (RMSE): 0.266\n",
      "Mean absolute percentage error (MAPE) : 0.117\n"
     ]
    }
   ],
   "source": [
    "print(f'R-squared: {r2_score(y_test, pred_test):.3f}')\n",
    "print(f'Mean absolute error (MAE): {mean_absolute_error(y_test, pred_test):.3f}')\n",
    "print(f'Mean squared error (MSE): {mean_squared_error(y_test, pred_test):.3f}')\n",
    "print(f'Root Mean squared error (RMSE): {mean_squared_error(y_test, pred_test, squared=False):.3f}')\n",
    "print(f'Mean absolute percentage error (MAPE) : {mean_absolute_percentage_error(y_test, pred_test):.3f}')"
   ]
  },
  {
   "cell_type": "markdown",
   "id": "de89bf27",
   "metadata": {},
   "source": [
    "## 8. Improve the model"
   ]
  },
  {
   "cell_type": "markdown",
   "id": "52f69663",
   "metadata": {},
   "source": [
    "- **Ridge regression**: a type of linear regression that performs L2 regularization by adding a penalty ( the sum of the squares of the coefficients) \n",
    "- **Lasso regression**: a type of linear regression that performs L1 regularization by adding a penalty (the sum of the absolute values of the coefficients)\n",
    "\n",
    "Reference: https://scikit-learn.org/stable/modules/classes.html#module-sklearn.linear_model"
   ]
  },
  {
   "cell_type": "markdown",
   "id": "6412456c",
   "metadata": {},
   "source": [
    "### (1) using lasso regression"
   ]
  },
  {
   "cell_type": "code",
   "execution_count": 11,
   "id": "3d27a2b2",
   "metadata": {
    "scrolled": false
   },
   "outputs": [],
   "source": [
    "from sklearn.linear_model import Lasso\n",
    "\n",
    "rg = Lasso(alpha=0.001)\n",
    "rg_model = rg.fit(X_train_scaled, y_train)"
   ]
  },
  {
   "cell_type": "markdown",
   "id": "4249da54",
   "metadata": {},
   "source": [
    "### (2) Reassess the training"
   ]
  },
  {
   "cell_type": "code",
   "execution_count": 12,
   "id": "e4a342e6",
   "metadata": {
    "scrolled": false
   },
   "outputs": [],
   "source": [
    "pred_train = rg_model.predict(X_train_scaled)"
   ]
  },
  {
   "cell_type": "code",
   "execution_count": 13,
   "id": "dbcad918",
   "metadata": {
    "scrolled": false
   },
   "outputs": [
    {
     "name": "stdout",
     "output_type": "stream",
     "text": [
      "R-squared: 0.991\n",
      "Mean absolute error (MAE): 0.178\n",
      "Mean squared error (MSE): 0.055\n",
      "Root Mean squared error (RMSE): 0.234\n",
      "Mean absolute percentage error (MAPE) : 0.071\n"
     ]
    }
   ],
   "source": [
    "print(f'R-squared: {r2_score(y_train, pred_train):.3f}')\n",
    "print(f'Mean absolute error (MAE): {mean_absolute_error(y_train, pred_train):.3f}')\n",
    "print(f'Mean squared error (MSE): {mean_squared_error(y_train, pred_train):.3f}')\n",
    "print(f'Root Mean squared error (RMSE): {mean_squared_error(y_train, pred_train, squared=False):.3f}')\n",
    "print(f'Mean absolute percentage error (MAPE) : {mean_absolute_percentage_error(y_train, pred_train):.3f}')"
   ]
  },
  {
   "cell_type": "markdown",
   "id": "1323ef91",
   "metadata": {},
   "source": [
    "### (3) Reevaluate the model "
   ]
  },
  {
   "cell_type": "code",
   "execution_count": 14,
   "id": "c586b813",
   "metadata": {
    "scrolled": false
   },
   "outputs": [
    {
     "name": "stdout",
     "output_type": "stream",
     "text": [
      "R-squared: 0.986\n",
      "Mean absolute error (MAE): 0.182\n",
      "Mean squared error (MSE): 0.057\n",
      "Root Mean squared error (RMSE): 0.239\n",
      "Mean absolute percentage error (MAPE) : 0.090\n"
     ]
    }
   ],
   "source": [
    "pred_test = rg_model.predict(X_test_scaled)\n",
    "\n",
    "print(f'R-squared: {r2_score(y_test, pred_test):.3f}')\n",
    "print(f'Mean absolute error (MAE): {mean_absolute_error(y_test, pred_test):.3f}')\n",
    "print(f'Mean squared error (MSE): {mean_squared_error(y_test, pred_test):.3f}')\n",
    "print(f'Root Mean squared error (RMSE): {mean_squared_error(y_test, pred_test, squared=False):.3f}')\n",
    "print(f'Mean absolute percentage error (MAPE) : {mean_absolute_percentage_error(y_test, pred_test):.3f}')"
   ]
  },
  {
   "cell_type": "markdown",
   "id": "5419f27f",
   "metadata": {},
   "source": [
    "### (4) Print the coeffcient and intercept of the model"
   ]
  },
  {
   "cell_type": "code",
   "execution_count": 15,
   "id": "530fa5dd",
   "metadata": {
    "scrolled": false
   },
   "outputs": [
    {
     "name": "stdout",
     "output_type": "stream",
     "text": [
      "Coefficients: [-0.76958049 -0.14648765  2.93727644  3.29993508  3.72734884  1.50994411\n",
      "  0.56359466  0.47572945  1.08688297  0.20741514]\n",
      "Intercept: 0.08731636390080233\n"
     ]
    }
   ],
   "source": [
    "print(f'Coefficients: {rg.coef_}')\n",
    "print(f'Intercept: {rg.intercept_}')"
   ]
  },
  {
   "cell_type": "markdown",
   "id": "33b7cec8",
   "metadata": {},
   "source": [
    "### (5) Compare prediction results with actual values"
   ]
  },
  {
   "cell_type": "code",
   "execution_count": 16,
   "id": "c17e89ed",
   "metadata": {
    "scrolled": false
   },
   "outputs": [
    {
     "data": {
      "text/html": [
       "<div>\n",
       "<style scoped>\n",
       "    .dataframe tbody tr th:only-of-type {\n",
       "        vertical-align: middle;\n",
       "    }\n",
       "\n",
       "    .dataframe tbody tr th {\n",
       "        vertical-align: top;\n",
       "    }\n",
       "\n",
       "    .dataframe thead th {\n",
       "        text-align: right;\n",
       "    }\n",
       "</style>\n",
       "<table border=\"1\" class=\"dataframe\">\n",
       "  <thead>\n",
       "    <tr style=\"text-align: right;\">\n",
       "      <th></th>\n",
       "      <th>Acutal values</th>\n",
       "      <th>Predicted values</th>\n",
       "      <th>Errors</th>\n",
       "    </tr>\n",
       "  </thead>\n",
       "  <tbody>\n",
       "    <tr>\n",
       "      <th>40</th>\n",
       "      <td>1.027550</td>\n",
       "      <td>1.411843</td>\n",
       "      <td>-0.384293</td>\n",
       "    </tr>\n",
       "    <tr>\n",
       "      <th>31</th>\n",
       "      <td>5.405822</td>\n",
       "      <td>5.520277</td>\n",
       "      <td>-0.114455</td>\n",
       "    </tr>\n",
       "    <tr>\n",
       "      <th>46</th>\n",
       "      <td>3.093328</td>\n",
       "      <td>2.885835</td>\n",
       "      <td>0.207493</td>\n",
       "    </tr>\n",
       "    <tr>\n",
       "      <th>58</th>\n",
       "      <td>0.689834</td>\n",
       "      <td>0.656864</td>\n",
       "      <td>0.032970</td>\n",
       "    </tr>\n",
       "    <tr>\n",
       "      <th>77</th>\n",
       "      <td>0.553301</td>\n",
       "      <td>0.539849</td>\n",
       "      <td>0.013452</td>\n",
       "    </tr>\n",
       "    <tr>\n",
       "      <th>49</th>\n",
       "      <td>4.536185</td>\n",
       "      <td>4.317923</td>\n",
       "      <td>0.218262</td>\n",
       "    </tr>\n",
       "    <tr>\n",
       "      <th>87</th>\n",
       "      <td>2.693103</td>\n",
       "      <td>2.383621</td>\n",
       "      <td>0.309482</td>\n",
       "    </tr>\n",
       "    <tr>\n",
       "      <th>44</th>\n",
       "      <td>2.190019</td>\n",
       "      <td>2.245759</td>\n",
       "      <td>-0.055740</td>\n",
       "    </tr>\n",
       "    <tr>\n",
       "      <th>88</th>\n",
       "      <td>2.959931</td>\n",
       "      <td>2.846230</td>\n",
       "      <td>0.113701</td>\n",
       "    </tr>\n",
       "    <tr>\n",
       "      <th>90</th>\n",
       "      <td>3.493824</td>\n",
       "      <td>3.647750</td>\n",
       "      <td>-0.153926</td>\n",
       "    </tr>\n",
       "    <tr>\n",
       "      <th>67</th>\n",
       "      <td>2.772231</td>\n",
       "      <td>2.581767</td>\n",
       "      <td>0.190464</td>\n",
       "    </tr>\n",
       "    <tr>\n",
       "      <th>27</th>\n",
       "      <td>3.098198</td>\n",
       "      <td>3.259011</td>\n",
       "      <td>-0.160813</td>\n",
       "    </tr>\n",
       "    <tr>\n",
       "      <th>74</th>\n",
       "      <td>5.176826</td>\n",
       "      <td>5.498863</td>\n",
       "      <td>-0.322037</td>\n",
       "    </tr>\n",
       "    <tr>\n",
       "      <th>84</th>\n",
       "      <td>1.801853</td>\n",
       "      <td>1.445737</td>\n",
       "      <td>0.356116</td>\n",
       "    </tr>\n",
       "    <tr>\n",
       "      <th>32</th>\n",
       "      <td>5.975337</td>\n",
       "      <td>6.000650</td>\n",
       "      <td>-0.025313</td>\n",
       "    </tr>\n",
       "    <tr>\n",
       "      <th>55</th>\n",
       "      <td>7.263415</td>\n",
       "      <td>7.198648</td>\n",
       "      <td>0.064767</td>\n",
       "    </tr>\n",
       "    <tr>\n",
       "      <th>39</th>\n",
       "      <td>0.919504</td>\n",
       "      <td>1.357305</td>\n",
       "      <td>-0.437801</td>\n",
       "    </tr>\n",
       "    <tr>\n",
       "      <th>10</th>\n",
       "      <td>4.601306</td>\n",
       "      <td>4.534433</td>\n",
       "      <td>0.066873</td>\n",
       "    </tr>\n",
       "    <tr>\n",
       "      <th>2</th>\n",
       "      <td>1.350242</td>\n",
       "      <td>1.332084</td>\n",
       "      <td>0.018158</td>\n",
       "    </tr>\n",
       "    <tr>\n",
       "      <th>38</th>\n",
       "      <td>0.833747</td>\n",
       "      <td>1.319405</td>\n",
       "      <td>-0.485658</td>\n",
       "    </tr>\n",
       "    <tr>\n",
       "      <th>53</th>\n",
       "      <td>6.300233</td>\n",
       "      <td>6.358477</td>\n",
       "      <td>-0.058244</td>\n",
       "    </tr>\n",
       "    <tr>\n",
       "      <th>73</th>\n",
       "      <td>4.725136</td>\n",
       "      <td>5.040069</td>\n",
       "      <td>-0.314933</td>\n",
       "    </tr>\n",
       "    <tr>\n",
       "      <th>19</th>\n",
       "      <td>0.855369</td>\n",
       "      <td>0.832000</td>\n",
       "      <td>0.023369</td>\n",
       "    </tr>\n",
       "    <tr>\n",
       "      <th>89</th>\n",
       "      <td>3.219130</td>\n",
       "      <td>3.255896</td>\n",
       "      <td>-0.036766</td>\n",
       "    </tr>\n",
       "    <tr>\n",
       "      <th>94</th>\n",
       "      <td>4.805586</td>\n",
       "      <td>5.318493</td>\n",
       "      <td>-0.512907</td>\n",
       "    </tr>\n",
       "    <tr>\n",
       "      <th>35</th>\n",
       "      <td>7.738828</td>\n",
       "      <td>7.359661</td>\n",
       "      <td>0.379167</td>\n",
       "    </tr>\n",
       "    <tr>\n",
       "      <th>33</th>\n",
       "      <td>6.508832</td>\n",
       "      <td>6.530679</td>\n",
       "      <td>-0.021847</td>\n",
       "    </tr>\n",
       "    <tr>\n",
       "      <th>48</th>\n",
       "      <td>3.916992</td>\n",
       "      <td>3.766829</td>\n",
       "      <td>0.150163</td>\n",
       "    </tr>\n",
       "    <tr>\n",
       "      <th>70</th>\n",
       "      <td>3.775659</td>\n",
       "      <td>3.738699</td>\n",
       "      <td>0.036960</td>\n",
       "    </tr>\n",
       "  </tbody>\n",
       "</table>\n",
       "</div>"
      ],
      "text/plain": [
       "    Acutal values  Predicted values    Errors\n",
       "40       1.027550          1.411843 -0.384293\n",
       "31       5.405822          5.520277 -0.114455\n",
       "46       3.093328          2.885835  0.207493\n",
       "58       0.689834          0.656864  0.032970\n",
       "77       0.553301          0.539849  0.013452\n",
       "49       4.536185          4.317923  0.218262\n",
       "87       2.693103          2.383621  0.309482\n",
       "44       2.190019          2.245759 -0.055740\n",
       "88       2.959931          2.846230  0.113701\n",
       "90       3.493824          3.647750 -0.153926\n",
       "67       2.772231          2.581767  0.190464\n",
       "27       3.098198          3.259011 -0.160813\n",
       "74       5.176826          5.498863 -0.322037\n",
       "84       1.801853          1.445737  0.356116\n",
       "32       5.975337          6.000650 -0.025313\n",
       "55       7.263415          7.198648  0.064767\n",
       "39       0.919504          1.357305 -0.437801\n",
       "10       4.601306          4.534433  0.066873\n",
       "2        1.350242          1.332084  0.018158\n",
       "38       0.833747          1.319405 -0.485658\n",
       "53       6.300233          6.358477 -0.058244\n",
       "73       4.725136          5.040069 -0.314933\n",
       "19       0.855369          0.832000  0.023369\n",
       "89       3.219130          3.255896 -0.036766\n",
       "94       4.805586          5.318493 -0.512907\n",
       "35       7.738828          7.359661  0.379167\n",
       "33       6.508832          6.530679 -0.021847\n",
       "48       3.916992          3.766829  0.150163\n",
       "70       3.775659          3.738699  0.036960"
      ]
     },
     "execution_count": 16,
     "metadata": {},
     "output_type": "execute_result"
    }
   ],
   "source": [
    "actual_pred_compare = pd.DataFrame({'Acutal values':y_test,\n",
    "                                   'Predicted values':pred_test,\n",
    "                                   'Errors':y_test-pred_test})\n",
    "actual_pred_compare"
   ]
  },
  {
   "cell_type": "markdown",
   "id": "fd689769",
   "metadata": {},
   "source": [
    "## 9. Visulization of the results"
   ]
  },
  {
   "cell_type": "code",
   "execution_count": 17,
   "id": "9007840d",
   "metadata": {
    "scrolled": false
   },
   "outputs": [
    {
     "data": {
      "image/png": "[encoded data removed]",
      "text/plain": [
       "<Figure size 1080x504 with 2 Axes>"
      ]
     },
     "metadata": {
      "needs_background": "light"
     },
     "output_type": "display_data"
    }
   ],
   "source": [
    "fig, axes = plt.subplots(1,2,figsize=(15,7))\n",
    "\n",
    "axes[0].plot(X_train['fexpen'], y_train, \"o\", label=\"Actual Values\")\n",
    "axes[0].plot(X_train['fexpen'], pred_train, \"o\", label=\"OLS Fitting Values\")\n",
    "axes[0].set(xlabel='fexpen', ylabel='gdp', title='Training')\n",
    "axes[0].legend(loc=\"best\")\n",
    "\n",
    "axes[1].plot(X_test['fexpen'], y_test,\"go\", label=\"Actual Values\")\n",
    "axes[1].plot(X_test['fexpen'], pred_test,\"ro\", label=\"OLS Predictions\")\n",
    "axes[1].set(xlabel='fexpen', ylabel='gdp', title='Testing')\n",
    "axes[1].legend(loc=\"best\")\n",
    "\n",
    "plt.tight_layout()"
   ]
  },
  {
   "cell_type": "code",
   "execution_count": 18,
   "id": "fa2c73a8",
   "metadata": {
    "scrolled": false
   },
   "outputs": [
    {
     "data": {
      "image/png": "[encoded data removed]",
      "text/plain": [
       "<Figure size 1080x504 with 2 Axes>"
      ]
     },
     "metadata": {
      "needs_background": "light"
     },
     "output_type": "display_data"
    }
   ],
   "source": [
    "fig, axes = plt.subplots(1,2,figsize=(15,7))\n",
    "\n",
    "axes[0].plot(pred_train, y_train, \"o\", label=\"Training\")\n",
    "axes[0].set_xlabel('Pred_train')\n",
    "axes[0].set_ylabel('y_train')\n",
    "axes[0].legend(loc=\"best\")\n",
    "\n",
    "axes[1].plot(pred_test, y_test,\"o\", label=\"Testing\")\n",
    "axes[1].set_xlabel('Pred_test')\n",
    "axes[1].set_ylabel('y_test')\n",
    "axes[1].legend(loc=\"best\")\n",
    "\n",
    "plt.tight_layout()"
   ]
  },
  {
   "cell_type": "code",
   "execution_count": 19,
   "id": "eab44b24",
   "metadata": {
    "scrolled": false
   },
   "outputs": [
    {
     "data": {
      "image/png": "[encoded data removed]",
      "text/plain": [
       "<Figure size 1080x504 with 2 Axes>"
      ]
     },
     "metadata": {
      "needs_background": "light"
     },
     "output_type": "display_data"
    }
   ],
   "source": [
    "import seaborn as sns\n",
    "\n",
    "fig, axs = plt.subplots(ncols=2,figsize=(15,7))\n",
    "\n",
    "sns.regplot(x=pred_train, y=y_train,scatter_kws={\"color\": \"blue\"}, \n",
    "            line_kws={\"color\": \"red\"}, ax=axs[0])\n",
    "axs[0].set(xlabel='Pred_train', ylabel='y_train', title='Training')\n",
    "axs[0].legend(('fit line', 'predictions vs actuals'),loc=2)\n",
    "\n",
    "sns.regplot(x=pred_test, y=y_test,scatter_kws={\"color\": \"green\"}, \n",
    "            line_kws={\"color\": \"red\"},ax=axs[1])\n",
    "axs[1].set(xlabel='Pred_test', ylabel='y_test', title='Testing')\n",
    "axs[1].legend(('fit line', 'predictions vs actuals'),loc=2)\n",
    "\n",
    "plt.tight_layout()"
   ]
  },
  {
   "cell_type": "code",
   "execution_count": 20,
   "id": "749de291",
   "metadata": {
    "scrolled": false
   },
   "outputs": [
    {
     "data": {
      "image/png": "[encoded data removed]",
      "text/plain": [
       "<Figure size 1080x504 with 2 Axes>"
      ]
     },
     "metadata": {
      "needs_background": "light"
     },
     "output_type": "display_data"
    }
   ],
   "source": [
    "fig, axs = plt.subplots(1,2,figsize=(15,7))\n",
    "\n",
    "axs[0].plot(X_train.fexpen, y_train-pred_train, \"o\", label=\"Train Errors\")\n",
    "axs[0].set(xlabel='fexpen', ylabel='Errors', title='Training')\n",
    "axs[0].legend(loc=\"best\")\n",
    "\n",
    "axs[1].plot(X_test.fexpen, y_test-pred_test,\"go\", label=\"Test Errors\")\n",
    "axs[1].set(xlabel='fexpen', ylabel='Errors', title='Testing')\n",
    "axs[1].legend(loc=\"best\")\n",
    "\n",
    "plt.tight_layout()"
   ]
  },
  {
   "cell_type": "code",
   "execution_count": null,
   "id": "3113995e",
   "metadata": {},
   "outputs": [],
   "source": []
  }
 ],
 "metadata": {
  "kernelspec": {
   "display_name": "Python 3 (ipykernel)",
   "language": "python",
   "name": "python3"
  },
  "language_info": {
   "codemirror_mode": {
    "name": "ipython",
    "version": 3
   },
   "file_extension": ".py",
   "mimetype": "text/x-python",
   "name": "python",
   "nbconvert_exporter": "python",
   "pygments_lexer": "ipython3",
   "version": "3.9.9"
  }
 },
 "nbformat": 4,
 "nbformat_minor": 5
}
