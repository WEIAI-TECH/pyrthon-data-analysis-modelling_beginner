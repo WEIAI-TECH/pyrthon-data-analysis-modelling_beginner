{
 "cells": [
  {
   "cell_type": "markdown",
   "metadata": {
    "slideshow": {
     "slide_type": "slide"
    }
   },
   "source": [
    "<img src=\"./images/shouke_logo.png\"\n",
    "     style=\"float: right\"\n",
    "     width=100\n",
    "     style=\"padding-bottom:30px;\"/>\n",
    "<br>\n",
    "<br>\n",
    "\n",
    "<table style=\"float:center;\">\n",
    "    <tr>\n",
    "        <td>\n",
    "            <img src='./images/data_anlysis_process.png'width=150>\n",
    "        </td>\n",
    "    </tr>\n",
    "</table>\n",
    "\n",
    "<h1 style='text-align: center;'>Introduction to Data Analysis and Data Modelling</h1>\n",
    "<h2 style='text-align: center;'>Shouke Wei, Ph.D. Professor</h2>\n",
    "<h3 style='text-align: center;'>Email: shouke.wei@gmail.com</h3>"
   ]
  },
  {
   "cell_type": "markdown",
   "metadata": {
    "slideshow": {
     "slide_type": "slide"
    }
   },
   "source": [
    "## Objective\n",
    "- discuss data analysis and data modelling"
   ]
  },
  {
   "cell_type": "markdown",
   "metadata": {
    "slideshow": {
     "slide_type": "slide"
    }
   },
   "source": [
    "## 1. Data Analysis and Data Modelling\n",
    "Data analysis and data modelling are two concepts but usually interlinked together. In some sense, they means the similar thing."
   ]
  },
  {
   "cell_type": "markdown",
   "metadata": {
    "slideshow": {
     "slide_type": "slide"
    }
   },
   "source": [
    "### 1.1 What is data analysis\n",
    "- a process of collecting, transforming, cleaning, and modelling data\n",
    "- to recover the useful information (Data mining). "
   ]
  },
  {
   "cell_type": "markdown",
   "metadata": {
    "slideshow": {
     "slide_type": "slide"
    }
   },
   "source": [
    "### 1.2 What is data modelling\n",
    "\n",
    "- the process of analyzing and organizing the data elements \n",
    "- to find how the data elements relate to one another"
   ]
  },
  {
   "cell_type": "markdown",
   "metadata": {
    "slideshow": {
     "slide_type": "slide"
    }
   },
   "source": [
    "## 2. Why Data Analysis and Data Modelling\n",
    "\n",
    "- Explore the useful patterns and information in the data\n",
    "- Understand developing direction and objectives\n",
    "- Discover the causes of certain events based on data findings\n",
    "- Understand problems facing\n",
    "- Present technical insights \n",
    "- Drive effective decision-making\n",
    "- Increase productivity"
   ]
  },
  {
   "cell_type": "markdown",
   "metadata": {
    "slideshow": {
     "slide_type": "slide"
    }
   },
   "source": [
    "## 3. Examples of Data Analysis and Data Modelling\n",
    "\n",
    "There are the 4 types of data analysis:\n",
    "\n",
    "- **Descriptive Analysis**: investigates the past data and finds what happened in the past. \n",
    "- **Diagnostic Analysis**: determines the reasons why that happened. \n",
    "- **Predictive Analysis**: predicts what would be likely to happen in the future (i.e. under past and current development trend ). \n",
    "- **Prescriptive Analysis**: uses the information discoved from the previous 3 types of data analysis and provides a series of actions or strategies for different situations and scenarios (i.e. what-if question).\n",
    "\n",
    "All these types of analysis usully rely on developing one or more models based on the data."
   ]
  },
  {
   "cell_type": "markdown",
   "metadata": {
    "slideshow": {
     "slide_type": "slide"
    }
   },
   "source": [
    "## 4. Process of Data Analysis and Modelling\n",
    "\n",
    "<table style=\"float:center;width:100%\">\n",
    "    <tr>\n",
    "        <td>\n",
    "            <img src='./images/data_anlysis_process.png'width=300>\n",
    "        </td>\n",
    "        <td style=\"text-align:left;height:200px;\">\n",
    "            <p>Data Analysis and Modelling Process:</p>\n",
    "            <ul style=\"line-height:1.5;\">\n",
    "                <li>Determine Objective (goals, reasons)</li>\n",
    "                <li>Data Exploration (Discover the usuful information or/and problems through different operation, like data \n",
    "                    slicing, sorting,filtering, grouping, etc.)</li>\n",
    "                <li>Data Preparation (detect missings, outliers,cleaning the data, find relations between data \n",
    "                    variables, normalizing data, divide the data for training and testing, etc.)</li>\n",
    "                <li>Data Modelling (train model, test it, evaluate it, visualize the results, \n",
    "                    etc.)</li>\n",
    "                <li>Model Deployment (appy it for prediction, strategy making under different scenarios, etc.) </li>\n",
    "                <li>Result Communication (Report the results, publish the results, ect.)</li>\n",
    "            </ul>\n",
    "        </td>\n",
    "    </tr>\n",
    "</table>"
   ]
  }
 ],
 "metadata": {
  "kernelspec": {
   "display_name": "Python 3 (ipykernel)",
   "language": "python",
   "name": "python3"
  },
  "language_info": {
   "codemirror_mode": {
    "name": "ipython",
    "version": 3
   },
   "file_extension": ".py",
   "mimetype": "text/x-python",
   "name": "python",
   "nbconvert_exporter": "python",
   "pygments_lexer": "ipython3",
   "version": "3.9.9"
  }
 },
 "nbformat": 4,
 "nbformat_minor": 4
}
