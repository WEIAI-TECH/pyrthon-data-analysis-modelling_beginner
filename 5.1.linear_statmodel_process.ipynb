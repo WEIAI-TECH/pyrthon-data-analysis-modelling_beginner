{
 "cells": [
  {
   "cell_type": "markdown",
   "id": "0b803904",
   "metadata": {},
   "source": [
    "<img src=\"./images/shouke_logo.png\"\n",
    "     style=\"float: right\"\n",
    "     width=100\n",
    "     style=\"padding-bottom:100px;\"/>\n",
    "<br>\n",
    "<br>\n",
    "\n",
    "<table style=\"float:center;\">\n",
    "    <tr>\n",
    "        <td>\n",
    "            <img src='./images/python-logo.png'width=120>\n",
    "        </td>\n",
    "        <td>\n",
    "            <img src='./images/pandas-logo.png'width=150>\n",
    "        </td>\n",
    "        <td>\n",
    "            <img src='./images/statsmodels_logo.png'width=150>\n",
    "        </td>\n",
    "    </tr>\n",
    "</table>\n",
    "\n",
    "<h1 style='text-align: center;'>Statistical Linear Regression Models</h1>\n",
    "<h2 style='text-align: center;'>Modelling Process</h2>\n",
    "<h3 style='text-align: center;'>Shouke Wei, Ph.D. Professor</h3>\n",
    "<h4 style='text-align: center;'>Email: shouke.wei@gmail.com</h4>"
   ]
  },
  {
   "cell_type": "markdown",
   "id": "23ad60bb",
   "metadata": {},
   "source": [
    "## Objective\n",
    "- From this lecture, we will learn how to develop statistical linear regression models with Statsmodels library\n",
    "- In this lecture, we only glance over the whole process of modelling "
   ]
  },
  {
   "cell_type": "markdown",
   "id": "2a30025b",
   "metadata": {},
   "source": [
    "## 1. Import the required packages"
   ]
  },
  {
   "cell_type": "markdown",
   "id": "6e5dffd6",
   "metadata": {},
   "source": [
    "## 2. Read the data"
   ]
  },
  {
   "cell_type": "markdown",
   "id": "872c88bb",
   "metadata": {},
   "source": [
    "## 3. Define the variables"
   ]
  },
  {
   "cell_type": "markdown",
   "id": "457b2df3",
   "metadata": {},
   "source": [
    "## 4. Divide the dataset "
   ]
  },
  {
   "cell_type": "markdown",
   "id": "01c9a1e3",
   "metadata": {},
   "source": [
    "## 5. Data Normalization (optional)"
   ]
  },
  {
   "cell_type": "markdown",
   "id": "496f7578",
   "metadata": {},
   "source": [
    "## 6. Fit the model"
   ]
  },
  {
   "cell_type": "markdown",
   "id": "12e61155",
   "metadata": {},
   "source": [
    "## 7. Interprete model results"
   ]
  },
  {
   "cell_type": "markdown",
   "id": "fdc9a10a",
   "metadata": {},
   "source": [
    "## 8. Model improvement"
   ]
  },
  {
   "cell_type": "markdown",
   "id": "5626518f",
   "metadata": {},
   "source": [
    "## 9. Model prediction testing/validation"
   ]
  },
  {
   "cell_type": "markdown",
   "id": "7a3b4fa5",
   "metadata": {},
   "source": [
    "## 10. Comparision results between predictions and obervations"
   ]
  },
  {
   "cell_type": "markdown",
   "id": "4ac8bea8",
   "metadata": {},
   "source": [
    "## 11. Model result visualization"
   ]
  },
  {
   "cell_type": "markdown",
   "id": "e9647c21",
   "metadata": {},
   "source": [
    "## 12. Model deployment "
   ]
  }
 ],
 "metadata": {
  "kernelspec": {
   "display_name": "Python 3 (ipykernel)",
   "language": "python",
   "name": "python3"
  },
  "language_info": {
   "codemirror_mode": {
    "name": "ipython",
    "version": 3
   },
   "file_extension": ".py",
   "mimetype": "text/x-python",
   "name": "python",
   "nbconvert_exporter": "python",
   "pygments_lexer": "ipython3",
   "version": "3.9.9"
  }
 },
 "nbformat": 4,
 "nbformat_minor": 5
}
